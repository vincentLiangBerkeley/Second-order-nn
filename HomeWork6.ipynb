{
 "metadata": {
  "name": "",
  "signature": "sha256:a7f5afefd8e501b63fe6fac3ed7d8f1cd6257e0838f56119e77436bfc53df8c1"
 },
 "nbformat": 3,
 "nbformat_minor": 0,
 "worksheets": [
  {
   "cells": [
    {
     "cell_type": "code",
     "collapsed": false,
     "input": [
      "import numpy as np\n",
      "import scipy.io as sio\n",
      "import matplotlib.pyplot as plt \n",
      "from sklearn.preprocessing import normalize\n",
      "\n",
      "%matplotlib inline\n",
      "# Loading data in\n",
      "data = sio.loadmat('digit-dataset/train.mat')\n",
      "images =data['train_images']\n",
      "labels = data['train_labels']\n",
      "\n",
      "# Reorganize and preprocess the data\n",
      "X = np.swapaxes(images, 0, 2)\n",
      "X = np.reshape(X, (60000, 784))\n",
      "y = np.swapaxes(labels, 0, 1)[0]\n",
      "X = normalize(X * 1.0)"
     ],
     "language": "python",
     "metadata": {},
     "outputs": [],
     "prompt_number": 1
    },
    {
     "cell_type": "code",
     "collapsed": false,
     "input": [
      "# Now define the most primitive functions\n",
      "def sigmoid(x):\n",
      "    return 1.0 / (1.0 + np.exp(-x))\n",
      "\n",
      "def sigmoid_gradient(x):\n",
      "    return sigmoid(x) * (1 - sigmoid(x))\n",
      "\n",
      "def tanh(x):\n",
      "    return np.tanh(x)\n",
      "\n",
      "def tanh_gradient(x):\n",
      "    return 1 - tanh(x) * tanh(x)"
     ],
     "language": "python",
     "metadata": {},
     "outputs": [],
     "prompt_number": 2
    },
    {
     "cell_type": "markdown",
     "metadata": {},
     "source": [
      " First we have some basic set ups: $N = 784, M = 200, K = 10$\n",
      " \n",
      " The first layer is $a_0 = [x, 1]\\in \\mathbb{R}^{N+1}$ is a row vector.\n",
      " \n",
      " The second layer consists of two vectors:\n",
      " $$z_1 = a_0 * W^{(1)}\\in \\mathbb{R}^M,\\quad a_1 = [tanh(z_1), 1]\\in \\mathbb{R}^{M+1}$$\n",
      " \n",
      " The output layer consists of two vectors:\n",
      " $$z_2 = a_1 * W^{(2)}\\in\\mathbb{R}^K ,\\quad a_2 = g(z_2)\\in\\mathbb{R}^K$$"
     ]
    },
    {
     "cell_type": "markdown",
     "metadata": {},
     "source": [
      " - For the Squared Case, the cost function is as follows:\n",
      " $$J = \\frac{1}{2}\\sum_{k=1}^K (y_k - h_k(x))^2$$\n",
      " \n",
      " Before deriving the formulas for derivatives, define some auxiliary parameters\uff1a\n",
      " $$\\delta_2 = -(y - h(x)).* g'(z_2)\\in\\mathbb{R}^K,\\quad \\delta_1 = W^{(2)}[2:end, :]* \\delta_2^T.*\\tanh'(z_1)^T\\in\\mathbb{R}^M.$$\n",
      "\n",
      " \n",
      " The derivatives with respect to $W^{(1)}, W^{(2)}$ are \n",
      " $$\\Delta_2 = (\\frac{\\partial{J}}{\\partial{W^{(2)}_{ij}}}) = a_1 ^T * \\delta_2 \\in\\mathbb{R}^{(M + 1)\\times K}, \\quad\n",
      " \\Delta_1 = (\\frac{\\partial{J}}{\\partial{W^{(1)}_{ij}}}) = a_0^T * \\delta_1\\in\\mathbb{R}^{(N+1)\\times M}$$"
     ]
    },
    {
     "cell_type": "markdown",
     "metadata": {},
     "source": [
      " \n",
      " - For the Entropy Case, the cost function is as follows:\n",
      " $$J = -\\sum_{k=1}^K(y_k\\ln h_k(x) + (1-y_k)\\ln (1-h_k(x)))$$\n",
      " \n",
      "  Before deriving the formulas for derivatives, define some auxiliary parameters\n",
      " $$\\delta_2 = -(y - h(x))\\in R^K,\\quad \n",
      " \\delta_1 = W^{(2)}[2:end, :] * \\delta_2^T.* \\tanh'(z_1)^T\\in R^M.$$\n",
      " \n",
      "  The derivatives with respect to $W^{(1)}, W^{(2)}$ are \n",
      " $$\\Delta_2 = (\\frac{\\partial{J}}{\\partial{W^{(2)}_{ij}}}) = a_1 ^T * \\delta_2 \\in R^{(M + 1)\\times K}, \\quad\n",
      " \\Delta_1 = (\\frac{\\partial{J}}{\\partial{W^{(1)}_{ij}}}) = a_0^T * \\delta_1\\in R^{(N+1)\\times M}$$"
     ]
    },
    {
     "cell_type": "code",
     "collapsed": false,
     "input": [
      "# Now define the two cost functions\n",
      "def forward_params(x, W_1, W_2):\n",
      "    # This is the cost function for a single point\n",
      "    # J = \\sum_{k=1}^K (y_k - h_k(x))\n",
      "    # x is an array, of size (784, )\n",
      "    # W_1, W_2 are weight matrices for the first, second layer respectively\n",
      "    a_0 = np.append(1, x)\n",
      "    z_1 = np.dot(a_0, W_1)\n",
      "    a_1 = np.append(1, tanh(z_1))\n",
      "    z_2 = np.dot(a_1, W_2)\n",
      "    a_2 = sigmoid(z_2)\n",
      "    return (a_0, z_1, a_1, z_2, a_2)\n",
      "\n",
      "def gradient_squared(x, y, W_1, W_2, num_labels):\n",
      "    # Create a vector of length 10 where for y\n",
      "    label = np.zeros(num_labels)\n",
      "    label[y] = 1\n",
      "    \n",
      "    (a_0, z_1, a_1, z_2, a_2) = forward_params(x, W_1, W_2)\n",
      "    # Make delta_2 a row vector\n",
      "    delta_2 = np.reshape(-(label - a_2) * sigmoid_gradient(z_2), (1, num_labels))\n",
      "    a_1 = np.reshape(a_1, (len(a_1), 1))\n",
      "    Delta_2 = np.dot(a_1, delta_2)\n",
      "    \n",
      "    # delta_1 is a column vector\n",
      "    delta_1 = np.dot(W_2[1:], delta_2.T).T * np.reshape(tanh_gradient(z_1), (1, len(z_1)))\n",
      "    a_0 = np.reshape(a_0, (len(a_0), 1))\n",
      "    Delta_1 = np.dot(a_0, delta_1)\n",
      "    \n",
      "    return (Delta_1, Delta_2)\n",
      "\n",
      "def gradient_entropy(x, y, W_1, W_2, num_labels):\n",
      "    # Create a vector of length 10 where for y\n",
      "    label = np.zeros(num_labels)\n",
      "    label[y] = 1\n",
      "    \n",
      "    (a_0, z_1, a_1, z_2, a_2) = forward_params(x, W_1, W_2)\n",
      "    # Make delta_2 a row vector\n",
      "    delta_2 = np.reshape(a_2 - label, (1, len(label)))\n",
      "    a_1 = np.reshape(a_1, (len(a_1), 1))\n",
      "    Delta_2 = np.dot(a_1, delta_2)\n",
      "    \n",
      "    # delta_1 is a column vector\n",
      "    delta_1 = np.dot(W_2[1:], delta_2.T).T * np.reshape(tanh_gradient(z_1), (1, len(z_1)))\n",
      "    a_0 = np.reshape(a_0, (len(a_0), 1))\n",
      "    Delta_1 = np.dot(a_0, delta_1)\n",
      "    \n",
      "    return (Delta_1, Delta_2)\n",
      "\n",
      "def random_initialize(nin, nout):\n",
      "    # This function randomly initialize a matrix of size nin * nout\n",
      "    eps = 0.12\n",
      "    W = np.random.rand(nin, nout) * 2 * eps - eps\n",
      "    return W\n",
      "\n",
      "def square_cost(h_x, y):\n",
      "    return sum((h_x - y) * (h_x - y)) / 2\n",
      "\n",
      "def entropy_cost(h_x, y):\n",
      "    # a_2 and y have to be ndarrays\n",
      "    return - sum(y * np.log(h_x)) - sum((1 - y) * np.log(1 - h_x))"
     ],
     "language": "python",
     "metadata": {},
     "outputs": [],
     "prompt_number": 3
    },
    {
     "cell_type": "code",
     "collapsed": false,
     "input": [
      "# Test with Andrew Ng's data\n",
      "weights = sio.loadmat('ex4weights.mat')\n",
      "data = sio.loadmat('ex4data1.mat')\n",
      "def compute_cost(X, Y, W_1, W_2):\n",
      "    cost = 0\n",
      "    for i in range(0, len(X)):\n",
      "        x = X[i]\n",
      "        y = Y[i] - 1\n",
      "        (a_0, z_1, a_1, z_2, a_2) = forward_params(x, W_1, W_2)\n",
      "        label = np.zeros(10)\n",
      "        label[y] = 1\n",
      "        cost += entropy_cost(a_2, label)\n",
      "    return cost / len(X)\n",
      "    \n",
      "images = data['X']\n",
      "Y = data['y']\n",
      "W_1 = weights['Theta1'].T\n",
      "W_2 = weights['Theta2'].T\n",
      "\n",
      "print compute_cost(images, Y, W_1, W_2)"
     ],
     "language": "python",
     "metadata": {},
     "outputs": [
      {
       "output_type": "stream",
       "stream": "stdout",
       "text": [
        "12.9215253339\n"
       ]
      }
     ],
     "prompt_number": 4
    },
    {
     "cell_type": "code",
     "collapsed": false,
     "input": [
      "def debug_initialize_weight(fan_in, fan_out):\n",
      "    return np.reshape(np.sin(range(1, (fan_in+1) * fan_out + 1)), (fan_in + 1, fan_out)) / 10\n",
      "\n",
      "def compute_numerical_gradient(costFunc, x, y, W_1, W_2):\n",
      "    e = 1e-4\n",
      "    numgrad_1 = np.zeros(W_1.shape)\n",
      "    perturb_1 = np.zeros(W_1.shape)\n",
      "    (m_1, n_1) = W_1.shape\n",
      "    for i in range(0, m_1):\n",
      "        for j in range(0, n_1):\n",
      "            perturb_1[i, j] = e\n",
      "            (a_0, z_1, a_1, z_2, a_2) = forward_params(x, W_1 + perturb_1, W_2)\n",
      "            loss_1 = costFunc(a_2, y)\n",
      "            (a_0, z_1, a_1, z_2, a_2) = forward_params(x, W_1 - perturb_1, W_2)\n",
      "            loss_2 = costFunc(a_2, y)\n",
      "            numgrad_1[i, j] = (loss_1 - loss_2) / (2 * e)\n",
      "            perturb_1[i, j] = 0\n",
      "    \n",
      "    numgrad_2 = np.zeros(W_2.shape)\n",
      "    perturb_2 = np.zeros(W_2.shape)\n",
      "    (m_2, n_2) = W_2.shape\n",
      "    for i in range(0, m_2):\n",
      "        for j in range(0, n_2):\n",
      "            perturb_2[i, j] = e\n",
      "            (a_0, z_1, a_1, z_2, a_2) = forward_params(x, W_1, W_2 + perturb_2)\n",
      "            loss_1 = costFunc(a_2, y)\n",
      "            (a_0, z_1, a_1, z_2, a_2) = forward_params(x, W_1, W_2 - perturb_2)\n",
      "            loss_2 = costFunc(a_2, y)\n",
      "            numgrad_2[i, j] = (loss_1 - loss_2) / (2 * e)\n",
      "            perturb_2[i, j] = 0\n",
      "            \n",
      "    return (numgrad_1, numgrad_2)\n",
      "\n",
      "def check_gradient(opt = 'entropy'):\n",
      "    # Parameters for a smaller NN to check gradient implementation\n",
      "    input_layer_size = 3\n",
      "    hidden_layer_size = 5\n",
      "    num_labels = 3\n",
      "    \n",
      "    # Generate some random weights for testing purpose\n",
      "    W_1 = debug_initialize_weight(input_layer_size, hidden_layer_size)\n",
      "    W_2 = debug_initialize_weight(hidden_layer_size, num_labels)\n",
      "    \n",
      "    x = debug_initialize_weight(input_layer_size - 1, 1).T\n",
      "    y = 1 + np.mod(1, num_labels)\n",
      "    print y\n",
      "    \n",
      "    if opt == 'entropy':\n",
      "        (D_1, D_2) = gradient_entropy(x, y, W_1, W_2, num_labels)\n",
      "        (numgrad_1, numgrad_2) = compute_numerical_gradient(entropy_cost, x, y, W_1, W_2)\n",
      "        print D_1\n",
      "    elif opt == 'squared':\n",
      "        (D_1, D_2) = gradient_squared(x, y, W_1, W_2, num_labels)\n",
      "        (numgrad_1, numgrad_2) = compute_numerical_gradient(square_cost, x, y, W_1, W_2)\n",
      "        print D_2\n",
      "        print numgrad_2"
     ],
     "language": "python",
     "metadata": {},
     "outputs": [],
     "prompt_number": 5
    },
    {
     "cell_type": "code",
     "collapsed": false,
     "input": [
      "def checkValid(params):\n",
      "    # This function checks whether the tuple params is valid for nn\n",
      "    assert(type(params[0]) == float)\n",
      "    assert(params[1] == 'squared' or params[1] == 'entropy')\n",
      "    assert(type(params[2]) == int)\n",
      "\n",
      "def nn_train(images, labels, params):\n",
      "    checkValid(params)\n",
      "    N = len(images[0])\n",
      "    M = 200\n",
      "    K = 10\n",
      "    \n",
      "    W_1 = random_initialize(N + 1, M)\n",
      "    W_2 = random_initialize(M + 1, K)\n",
      "    \n",
      "    max_iter = params[2]\n",
      "    cost = params[1]\n",
      "    rate = params[0]\n",
      "    \n",
      "    count = 0\n",
      "    costs = []\n",
      "    while(count <= max_iter):\n",
      "        count += 1\n",
      "        # Pick a data point at random\n",
      "        index = np.random.randint(len(images))\n",
      "        x = images[index]\n",
      "        y = labels[index]\n",
      "                \n",
      "        if cost == 'squared':\n",
      "            (D_1, D_2) = gradient_squared(x, y, W_1, W_2, K)\n",
      "            if (count % 100) == 0:\n",
      "                c = 0\n",
      "                for i in range(0, len(images)):\n",
      "                    image = images[i]\n",
      "                    (a_0, z_1, a_1, z_2, a_2) = forward_params(image, W_1, W_2)\n",
      "                    label = np.zeros(K)\n",
      "                    label[labels[i]] = 1\n",
      "                    c += square_cost(a_2, label)\n",
      "                costs.append(c)\n",
      "                \n",
      "        elif cost == 'entropy':\n",
      "            (D_1, D_2) = gradient_entropy(x, y, W_1, W_2, K)\n",
      "            if (count % 100) == 0:\n",
      "                c = 0\n",
      "                for i in range(0, len(images)):\n",
      "                    image = images[i]\n",
      "                    (a_0, z_1, a_1, z_2, a_2) = forward_params(image, W_1, W_2)\n",
      "                    label = np.zeros(K)\n",
      "                    label[labels[i]] = 1\n",
      "                    c += entropy_cost(a_2, label)\n",
      "                costs.append(c)\n",
      "                \n",
      "        W_1 = W_1 - rate * D_1\n",
      "        W_2 = W_2 - rate * D_2\n",
      "    return (W_1, W_2, costs)\n",
      "\n",
      "def nn_predict(W_1, W_2, images):\n",
      "    results = []\n",
      "    for i in range(0, len(images)):\n",
      "        (a_0, z_1, a_1, z_2, a_2) = forward_params(images[i], W_1, W_2)\n",
      "        results.append(np.argmax(a_2))\n",
      "    \n",
      "    return results"
     ],
     "language": "python",
     "metadata": {},
     "outputs": [],
     "prompt_number": 6
    },
    {
     "cell_type": "code",
     "collapsed": false,
     "input": [
      "# Random sample 5000 images to train\n",
      "index = np.random.random_integers(60000, size=(2000, ))\n",
      "sample = []\n",
      "sample_labels = []\n",
      "for i in range(2000):\n",
      "    sample.append(X[index[i]])\n",
      "    sample_labels.append(y[index[i]])"
     ],
     "language": "python",
     "metadata": {},
     "outputs": [],
     "prompt_number": 7
    },
    {
     "cell_type": "code",
     "collapsed": false,
     "input": [
      "(W_1, W_2, costs) = nn_train(X, y, (0.001, 'squared', 60000))"
     ],
     "language": "python",
     "metadata": {},
     "outputs": [
      {
       "ename": "KeyboardInterrupt",
       "evalue": "",
       "output_type": "pyerr",
       "traceback": [
        "\u001b[0;31m---------------------------------------------------------------------------\u001b[0m\n\u001b[0;31mKeyboardInterrupt\u001b[0m                         Traceback (most recent call last)",
        "\u001b[0;32m<ipython-input-8-8ec7553cc70b>\u001b[0m in \u001b[0;36m<module>\u001b[0;34m()\u001b[0m\n\u001b[0;32m----> 1\u001b[0;31m \u001b[0;34m(\u001b[0m\u001b[0mW_1\u001b[0m\u001b[0;34m,\u001b[0m \u001b[0mW_2\u001b[0m\u001b[0;34m,\u001b[0m \u001b[0mcosts\u001b[0m\u001b[0;34m)\u001b[0m \u001b[0;34m=\u001b[0m \u001b[0mnn_train\u001b[0m\u001b[0;34m(\u001b[0m\u001b[0mX\u001b[0m\u001b[0;34m,\u001b[0m \u001b[0my\u001b[0m\u001b[0;34m,\u001b[0m \u001b[0;34m(\u001b[0m\u001b[0;36m0.001\u001b[0m\u001b[0;34m,\u001b[0m \u001b[0;34m'squared'\u001b[0m\u001b[0;34m,\u001b[0m \u001b[0;36m60000\u001b[0m\u001b[0;34m)\u001b[0m\u001b[0;34m)\u001b[0m\u001b[0;34m\u001b[0m\u001b[0m\n\u001b[0m",
        "\u001b[0;32m<ipython-input-6-7060fcc22bbf>\u001b[0m in \u001b[0;36mnn_train\u001b[0;34m(images, labels, params)\u001b[0m\n\u001b[1;32m     33\u001b[0m                 \u001b[0;32mfor\u001b[0m \u001b[0mi\u001b[0m \u001b[0;32min\u001b[0m \u001b[0mrange\u001b[0m\u001b[0;34m(\u001b[0m\u001b[0;36m0\u001b[0m\u001b[0;34m,\u001b[0m \u001b[0mlen\u001b[0m\u001b[0;34m(\u001b[0m\u001b[0mimages\u001b[0m\u001b[0;34m)\u001b[0m\u001b[0;34m)\u001b[0m\u001b[0;34m:\u001b[0m\u001b[0;34m\u001b[0m\u001b[0m\n\u001b[1;32m     34\u001b[0m                     \u001b[0mimage\u001b[0m \u001b[0;34m=\u001b[0m \u001b[0mimages\u001b[0m\u001b[0;34m[\u001b[0m\u001b[0mi\u001b[0m\u001b[0;34m]\u001b[0m\u001b[0;34m\u001b[0m\u001b[0m\n\u001b[0;32m---> 35\u001b[0;31m                     \u001b[0;34m(\u001b[0m\u001b[0ma_0\u001b[0m\u001b[0;34m,\u001b[0m \u001b[0mz_1\u001b[0m\u001b[0;34m,\u001b[0m \u001b[0ma_1\u001b[0m\u001b[0;34m,\u001b[0m \u001b[0mz_2\u001b[0m\u001b[0;34m,\u001b[0m \u001b[0ma_2\u001b[0m\u001b[0;34m)\u001b[0m \u001b[0;34m=\u001b[0m \u001b[0mforward_params\u001b[0m\u001b[0;34m(\u001b[0m\u001b[0mimage\u001b[0m\u001b[0;34m,\u001b[0m \u001b[0mW_1\u001b[0m\u001b[0;34m,\u001b[0m \u001b[0mW_2\u001b[0m\u001b[0;34m)\u001b[0m\u001b[0;34m\u001b[0m\u001b[0m\n\u001b[0m\u001b[1;32m     36\u001b[0m                     \u001b[0mlabel\u001b[0m \u001b[0;34m=\u001b[0m \u001b[0mnp\u001b[0m\u001b[0;34m.\u001b[0m\u001b[0mzeros\u001b[0m\u001b[0;34m(\u001b[0m\u001b[0mK\u001b[0m\u001b[0;34m)\u001b[0m\u001b[0;34m\u001b[0m\u001b[0m\n\u001b[1;32m     37\u001b[0m                     \u001b[0mlabel\u001b[0m\u001b[0;34m[\u001b[0m\u001b[0mlabels\u001b[0m\u001b[0;34m[\u001b[0m\u001b[0mi\u001b[0m\u001b[0;34m]\u001b[0m\u001b[0;34m]\u001b[0m \u001b[0;34m=\u001b[0m \u001b[0;36m1\u001b[0m\u001b[0;34m\u001b[0m\u001b[0m\n",
        "\u001b[0;32m<ipython-input-3-31cb8e598400>\u001b[0m in \u001b[0;36mforward_params\u001b[0;34m(x, W_1, W_2)\u001b[0m\n\u001b[1;32m      5\u001b[0m     \u001b[0;31m# x is an array, of size (784, )\u001b[0m\u001b[0;34m\u001b[0m\u001b[0;34m\u001b[0m\u001b[0m\n\u001b[1;32m      6\u001b[0m     \u001b[0;31m# W_1, W_2 are weight matrices for the first, second layer respectively\u001b[0m\u001b[0;34m\u001b[0m\u001b[0;34m\u001b[0m\u001b[0m\n\u001b[0;32m----> 7\u001b[0;31m     \u001b[0ma_0\u001b[0m \u001b[0;34m=\u001b[0m \u001b[0mnp\u001b[0m\u001b[0;34m.\u001b[0m\u001b[0mappend\u001b[0m\u001b[0;34m(\u001b[0m\u001b[0;36m1\u001b[0m\u001b[0;34m,\u001b[0m \u001b[0mx\u001b[0m\u001b[0;34m)\u001b[0m\u001b[0;34m\u001b[0m\u001b[0m\n\u001b[0m\u001b[1;32m      8\u001b[0m     \u001b[0mz_1\u001b[0m \u001b[0;34m=\u001b[0m \u001b[0mnp\u001b[0m\u001b[0;34m.\u001b[0m\u001b[0mdot\u001b[0m\u001b[0;34m(\u001b[0m\u001b[0ma_0\u001b[0m\u001b[0;34m,\u001b[0m \u001b[0mW_1\u001b[0m\u001b[0;34m)\u001b[0m\u001b[0;34m\u001b[0m\u001b[0m\n\u001b[1;32m      9\u001b[0m     \u001b[0ma_1\u001b[0m \u001b[0;34m=\u001b[0m \u001b[0mnp\u001b[0m\u001b[0;34m.\u001b[0m\u001b[0mappend\u001b[0m\u001b[0;34m(\u001b[0m\u001b[0;36m1\u001b[0m\u001b[0;34m,\u001b[0m \u001b[0mtanh\u001b[0m\u001b[0;34m(\u001b[0m\u001b[0mz_1\u001b[0m\u001b[0;34m)\u001b[0m\u001b[0;34m)\u001b[0m\u001b[0;34m\u001b[0m\u001b[0m\n",
        "\u001b[0;32m/usr/local/lib/python2.7/site-packages/numpy/lib/function_base.pyc\u001b[0m in \u001b[0;36mappend\u001b[0;34m(arr, values, axis)\u001b[0m\n\u001b[1;32m   3830\u001b[0m \u001b[0;34m\u001b[0m\u001b[0m\n\u001b[1;32m   3831\u001b[0m \u001b[0;34m\u001b[0m\u001b[0m\n\u001b[0;32m-> 3832\u001b[0;31m \u001b[0;32mdef\u001b[0m \u001b[0mappend\u001b[0m\u001b[0;34m(\u001b[0m\u001b[0marr\u001b[0m\u001b[0;34m,\u001b[0m \u001b[0mvalues\u001b[0m\u001b[0;34m,\u001b[0m \u001b[0maxis\u001b[0m\u001b[0;34m=\u001b[0m\u001b[0mNone\u001b[0m\u001b[0;34m)\u001b[0m\u001b[0;34m:\u001b[0m\u001b[0;34m\u001b[0m\u001b[0m\n\u001b[0m\u001b[1;32m   3833\u001b[0m     \"\"\"\n\u001b[1;32m   3834\u001b[0m     \u001b[0mAppend\u001b[0m \u001b[0mvalues\u001b[0m \u001b[0mto\u001b[0m \u001b[0mthe\u001b[0m \u001b[0mend\u001b[0m \u001b[0mof\u001b[0m \u001b[0man\u001b[0m \u001b[0marray\u001b[0m\u001b[0;34m.\u001b[0m\u001b[0;34m\u001b[0m\u001b[0m\n",
        "\u001b[0;31mKeyboardInterrupt\u001b[0m: "
       ]
      }
     ],
     "prompt_number": 8
    },
    {
     "cell_type": "code",
     "collapsed": false,
     "input": [
      "(W_1, W_2, costs) = nn_train(X, y, (0.001, 'entropy', 60000))"
     ],
     "language": "python",
     "metadata": {},
     "outputs": [],
     "prompt_number": 131
    },
    {
     "cell_type": "code",
     "collapsed": false,
     "input": [
      "plt.plot(costs)"
     ],
     "language": "python",
     "metadata": {},
     "outputs": [
      {
       "metadata": {},
       "output_type": "pyout",
       "prompt_number": 132,
       "text": [
        "[<matplotlib.lines.Line2D at 0x11c824710>]"
       ]
      },
      {
       "metadata": {},
       "output_type": "display_data",
       "png": "[encoded data removed]",
       "text": [
        "<matplotlib.figure.Figure at 0x11b572f50>"
       ]
      }
     ],
     "prompt_number": 132
    },
    {
     "cell_type": "code",
     "collapsed": false,
     "input": [
      "plt.plot(costs)"
     ],
     "language": "python",
     "metadata": {},
     "outputs": [
      {
       "metadata": {},
       "output_type": "pyout",
       "prompt_number": 110,
       "text": [
        "[<matplotlib.lines.Line2D at 0x11acb4d10>]"
       ]
      },
      {
       "metadata": {},
       "output_type": "display_data",
       "png": "[encoded data removed]",
       "text": [
        "<matplotlib.figure.Figure at 0x11ad41d50>"
       ]
      }
     ],
     "prompt_number": 110
    },
    {
     "cell_type": "code",
     "collapsed": false,
     "input": [
      "results = nn_predict(W_1, W_2, X)\n",
      "err = 0\n",
      "for i in range(0, len(results)):\n",
      "    if results[i] != y[i]:\n",
      "        err += 1\n",
      "print err * 1.0 / len(results)"
     ],
     "language": "python",
     "metadata": {},
     "outputs": [
      {
       "output_type": "stream",
       "stream": "stdout",
       "text": [
        "[ 0.15684531  0.12970807  0.1086154   0.10719697  0.10341918  0.10191017\n",
        "  0.11581262  0.10985559  0.10259211  0.09652384]\n",
        "[ 0.17605565  0.14979753  0.1353476   0.12066055  0.12297136  0.11219519\n",
        "  0.10832116  0.13914413  0.10820941  0.1328598 ]"
       ]
      },
      {
       "output_type": "stream",
       "stream": "stdout",
       "text": [
        "\n",
        "[ 0.17216956  0.13552795  0.13007107  0.11065491  0.11796072  0.09785124\n",
        "  0.10541346  0.11716213  0.10153845  0.10790042]"
       ]
      },
      {
       "output_type": "stream",
       "stream": "stdout",
       "text": [
        "\n",
        "[ 0.18259499  0.15717217  0.13863046  0.12883362  0.10827035  0.11329426\n",
        "  0.1206671   0.11934861  0.10913358  0.10731726]"
       ]
      },
      {
       "output_type": "stream",
       "stream": "stdout",
       "text": [
        "\n",
        "[ 0.15728387  0.11948474  0.11364643  0.10518002  0.10936575  0.09321968\n",
        "  0.11091335  0.10568727  0.10113811  0.10864943]"
       ]
      },
      {
       "output_type": "stream",
       "stream": "stdout",
       "text": [
        "\n",
        "[ 0.18967311  0.12504273  0.12274817  0.11995954  0.11324715  0.10460874\n",
        "  0.10115807  0.12188966  0.09851117  0.1126892 ]"
       ]
      },
      {
       "output_type": "stream",
       "stream": "stdout",
       "text": [
        "\n",
        "[ 0.11036632  0.17104808  0.10582632  0.11249394  0.1100302   0.0981346\n",
        "  0.10629722  0.10987056  0.10305318  0.09961505]"
       ]
      },
      {
       "output_type": "stream",
       "stream": "stdout",
       "text": [
        "\n",
        "[ 0.10486522  0.16591296  0.096017    0.1015599   0.10341637  0.09364037\n",
        "  0.11026607  0.11557389  0.09699611  0.10073346]"
       ]
      },
      {
       "output_type": "stream",
       "stream": "stdout",
       "text": [
        "\n",
        "[ 0.1151941   0.17211332  0.12080198  0.11844626  0.11021338  0.10387873\n",
        "  0.1112648   0.12147997  0.10122361  0.10980503]"
       ]
      },
      {
       "output_type": "stream",
       "stream": "stdout",
       "text": [
        "\n",
        "[ 0.10325571  0.18293443  0.10338836  0.10516381  0.09650318  0.09711646\n",
        "  0.10926235  0.10939318  0.09934468  0.10992246]"
       ]
      },
      {
       "output_type": "stream",
       "stream": "stdout",
       "text": [
        "\n",
        "[ 0.10327781  0.16485251  0.10487024  0.10731865  0.10848902  0.09305996\n",
        "  0.10576074  0.10619095  0.09637873  0.10075596]"
       ]
      },
      {
       "output_type": "stream",
       "stream": "stdout",
       "text": [
        "\n",
        "[ 0.10133133  0.1838201   0.09639398  0.09730441  0.08736124  0.09178219\n",
        "  0.11024568  0.11001746  0.10197277  0.09468092]"
       ]
      },
      {
       "output_type": "stream",
       "stream": "stdout",
       "text": [
        "\n",
        "[ 0.10259059  0.16594358  0.10229799  0.11495061  0.09665956  0.0958551\n",
        "  0.10551676  0.11352379  0.10533203  0.10693125]"
       ]
      },
      {
       "output_type": "stream",
       "stream": "stdout",
       "text": [
        "\n",
        "[ 0.11747144  0.1407441   0.1126957   0.10852206  0.10367783  0.09151433\n",
        "  0.10889366  0.10346658  0.09786717  0.10305662]"
       ]
      },
      {
       "output_type": "stream",
       "stream": "stdout",
       "text": [
        "\n",
        "[ 0.13815856  0.16852143  0.13404953  0.11430959  0.10695768  0.10877666\n",
        "  0.13049242  0.11523891  0.11150358  0.11765339]"
       ]
      },
      {
       "output_type": "stream",
       "stream": "stdout",
       "text": [
        "\n",
        "[ 0.12283408  0.14229074  0.12382626  0.11899497  0.11206231  0.09438614\n",
        "  0.11806256  0.10902877  0.09792292  0.10183287]"
       ]
      },
      {
       "output_type": "stream",
       "stream": "stdout",
       "text": [
        "\n",
        "[ 0.12860845  0.13827197  0.11861455  0.10676278  0.11540671  0.09525948\n",
        "  0.12540442  0.11289664  0.10432918  0.1068297 ]"
       ]
      },
      {
       "output_type": "stream",
       "stream": "stdout",
       "text": [
        "\n",
        "[ 0.11927611  0.11928411  0.11545737  0.1213498   0.10799567  0.08881201\n",
        "  0.10064167  0.11540787  0.09132896  0.10499549]"
       ]
      },
      {
       "output_type": "stream",
       "stream": "stdout",
       "text": [
        "\n",
        "[ 0.13956896  0.13986603  0.14640112  0.12584579  0.12238907  0.11024706\n",
        "  0.12523844  0.11500957  0.10789727  0.10810121]"
       ]
      },
      {
       "output_type": "stream",
       "stream": "stdout",
       "text": [
        "\n",
        "[ 0.13192972  0.12883298  0.11300503  0.12126387  0.10526255  0.09835488\n",
        "  0.09443391  0.11240968  0.10555734  0.10193399]"
       ]
      },
      {
       "output_type": "stream",
       "stream": "stdout",
       "text": [
        "\n",
        "[ 0.1116077   0.13585176  0.10467081  0.12253035  0.09476431  0.09824258\n",
        "  0.09175203  0.11057738  0.09485455  0.09721362]"
       ]
      },
      {
       "output_type": "stream",
       "stream": "stdout",
       "text": [
        "\n",
        "[ 0.10723895  0.15799767  0.11451019  0.11913309  0.10405729  0.09656017\n",
        "  0.09724757  0.11272189  0.09981881  0.10033426]"
       ]
      },
      {
       "output_type": "stream",
       "stream": "stdout",
       "text": [
        "\n",
        "[ 0.11783466  0.12823625  0.10042484  0.12240954  0.10277023  0.09203579\n",
        "  0.09890985  0.10011186  0.086581    0.09208568]"
       ]
      },
      {
       "output_type": "stream",
       "stream": "stdout",
       "text": [
        "\n",
        "[ 0.12459046  0.12970842  0.117209    0.12197852  0.12995213  0.09693722\n",
        "  0.10660782  0.13693194  0.09651729  0.12327327]"
       ]
      },
      {
       "output_type": "stream",
       "stream": "stdout",
       "text": [
        "\n",
        "[ 0.13412413  0.12942076  0.10561059  0.12121564  0.09801109  0.09383686\n",
        "  0.11166979  0.10037301  0.09961125  0.10028171]"
       ]
      },
      {
       "output_type": "stream",
       "stream": "stdout",
       "text": [
        "\n",
        "[ 0.10230474  0.1469815   0.10000812  0.10006411  0.12018744  0.09233895\n",
        "  0.11015123  0.11640684  0.09135593  0.10964799]"
       ]
      },
      {
       "output_type": "stream",
       "stream": "stdout",
       "text": [
        "\n",
        "[ 0.12018706  0.11754447  0.10756477  0.10904184  0.11147308  0.09120906\n",
        "  0.09522838  0.10823641  0.09429928  0.10769765]"
       ]
      },
      {
       "output_type": "stream",
       "stream": "stdout",
       "text": [
        "\n",
        "[ 0.11582241  0.12031744  0.10779013  0.12222127  0.12302924  0.10504235\n",
        "  0.10448123  0.12558746  0.10268931  0.11816487]"
       ]
      },
      {
       "output_type": "stream",
       "stream": "stdout",
       "text": [
        "\n",
        "[ 0.1325716   0.12782383  0.11265593  0.11006303  0.13276666  0.1028346\n",
        "  0.12661725  0.12644166  0.10869368  0.11324689]"
       ]
      },
      {
       "output_type": "stream",
       "stream": "stdout",
       "text": [
        "\n",
        "[ 0.08651217  0.12880164  0.09423485  0.10678931  0.11384875  0.09485784\n",
        "  0.1014408   0.11024537  0.09336247  0.1062159 ]"
       ]
      },
      {
       "output_type": "stream",
       "stream": "stdout",
       "text": [
        "\n",
        "[ 0.14188075  0.12099798  0.12012567  0.12285424  0.13108615  0.10702594\n",
        "  0.11007827  0.11921102  0.10686577  0.11102483]"
       ]
      },
      {
       "output_type": "stream",
       "stream": "stdout",
       "text": [
        "\n",
        "[ 0.12715075  0.12724321  0.1093409   0.10555729  0.09425451  0.09540128\n",
        "  0.10733326  0.09767682  0.0968118   0.09769711]"
       ]
      },
      {
       "output_type": "stream",
       "stream": "stdout",
       "text": [
        "\n",
        "[ 0.15045393  0.13491939  0.11941642  0.11337443  0.11101983  0.09727876\n",
        "  0.10907195  0.10734904  0.10369321  0.10344844]"
       ]
      },
      {
       "output_type": "stream",
       "stream": "stdout",
       "text": [
        "\n",
        "[ 0.10259792  0.10926137  0.09240605  0.09624919  0.10313365  0.08566271\n",
        "  0.08928796  0.11138864  0.08257878  0.10221527]"
       ]
      },
      {
       "output_type": "stream",
       "stream": "stdout",
       "text": [
        "\n",
        "[ 0.1201323   0.15823809  0.10590007  0.1139489   0.10566639  0.10846202\n",
        "  0.12410809  0.11782173  0.10482114  0.11187126]"
       ]
      },
      {
       "output_type": "stream",
       "stream": "stdout",
       "text": [
        "\n",
        "[ 0.11870371  0.18004108  0.1131344   0.1120152   0.11267076  0.1100169\n",
        "  0.13346965  0.11410054  0.10641058  0.09999284]"
       ]
      },
      {
       "output_type": "stream",
       "stream": "stdout",
       "text": [
        "\n",
        "[ 0.1148123   0.12677685  0.10584965  0.11027461  0.10235465  0.09674228\n",
        "  0.09232258  0.11429019  0.09299811  0.09490039]"
       ]
      },
      {
       "output_type": "stream",
       "stream": "stdout",
       "text": [
        "\n",
        "[ 0.11415043  0.12854199  0.10242955  0.10353862  0.09209076  0.09270157\n",
        "  0.11565215  0.09362374  0.0926837   0.08896305]"
       ]
      },
      {
       "output_type": "stream",
       "stream": "stdout",
       "text": [
        "\n",
        "[ 0.11723306  0.13632662  0.10740498  0.10578928  0.11902903  0.08751658\n",
        "  0.11968397  0.11616816  0.10240255  0.11089533]"
       ]
      },
      {
       "output_type": "stream",
       "stream": "stdout",
       "text": [
        "\n",
        "[ 0.11892827  0.13713778  0.10339815  0.0970385   0.0979783   0.08597215\n",
        "  0.11897432  0.10279665  0.09860224  0.09891398]"
       ]
      },
      {
       "output_type": "stream",
       "stream": "stdout",
       "text": [
        "\n",
        "[ 0.12793522  0.12294001  0.10461752  0.10708859  0.10955111  0.09044389\n",
        "  0.10852327  0.10851085  0.09635623  0.10009316]"
       ]
      },
      {
       "output_type": "stream",
       "stream": "stdout",
       "text": [
        "\n",
        "[ 0.12354856  0.13114938  0.10830828  0.10590838  0.11639024  0.09410575\n",
        "  0.12374138  0.10344695  0.09453311  0.09491079]"
       ]
      },
      {
       "output_type": "stream",
       "stream": "stdout",
       "text": [
        "\n",
        "[ 0.11178397  0.12284965  0.10451236  0.11518575  0.12410231  0.09568753\n",
        "  0.10696448  0.1369353   0.09986997  0.11458913]"
       ]
      },
      {
       "output_type": "stream",
       "stream": "stdout",
       "text": [
        "\n",
        "[ 0.115172    0.12412972  0.10501973  0.10166274  0.12240458  0.09654105\n",
        "  0.0979782   0.125694    0.10056112  0.10658366]"
       ]
      },
      {
       "output_type": "stream",
       "stream": "stdout",
       "text": [
        "\n",
        "[ 0.11104657  0.11596264  0.09506778  0.10538057  0.11497915  0.0923301\n",
        "  0.09774782  0.13797656  0.09413022  0.11550805]"
       ]
      },
      {
       "output_type": "stream",
       "stream": "stdout",
       "text": [
        "\n",
        "[ 0.13893224  0.12243258  0.11366535  0.11734248  0.1258917   0.10392035\n",
        "  0.1032378   0.13424422  0.10906017  0.11185583]"
       ]
      },
      {
       "output_type": "stream",
       "stream": "stdout",
       "text": [
        "\n",
        "[ 0.10239926  0.15600222  0.08784243  0.09833349  0.10381071  0.08880054\n",
        "  0.09974536  0.12358775  0.08934407  0.11076935]"
       ]
      },
      {
       "output_type": "stream",
       "stream": "stdout",
       "text": [
        "\n",
        "[ 0.10869274  0.13556909  0.10090719  0.11053216  0.12391684  0.09870429\n",
        "  0.10149552  0.14297785  0.10198382  0.12359504]"
       ]
      },
      {
       "output_type": "stream",
       "stream": "stdout",
       "text": [
        "\n",
        "[ 0.11877228  0.1380091   0.09710466  0.10785973  0.11811479  0.09369344\n",
        "  0.10434148  0.13329039  0.10269114  0.11746764]"
       ]
      },
      {
       "output_type": "stream",
       "stream": "stdout",
       "text": [
        "\n",
        "[ 0.09994832  0.12513367  0.08312943  0.08739959  0.08312051  0.08077127\n",
        "  0.09216789  0.08906884  0.08386666  0.08513576]"
       ]
      },
      {
       "output_type": "stream",
       "stream": "stdout",
       "text": [
        "\n",
        "[ 0.11841047  0.13153151  0.11145543  0.1035864   0.10804097  0.0918323\n",
        "  0.10381786  0.11508697  0.10266798  0.11481003]"
       ]
      },
      {
       "output_type": "stream",
       "stream": "stdout",
       "text": [
        "\n",
        "[ 0.12892006  0.12345824  0.09784326  0.09572998  0.11178271  0.08959053\n",
        "  0.10759905  0.12293914  0.0849834   0.10172753]"
       ]
      },
      {
       "output_type": "stream",
       "stream": "stdout",
       "text": [
        "\n",
        "[ 0.11284482  0.13096354  0.10052358  0.10043888  0.10585316  0.09074175\n",
        "  0.10303863  0.10695618  0.09233417  0.10050946]"
       ]
      },
      {
       "output_type": "stream",
       "stream": "stdout",
       "text": [
        "\n",
        "[ 0.14561176  0.12378836  0.12157351  0.10655184  0.11258823  0.0978614\n",
        "  0.11676148  0.10932874  0.09136011  0.09610661]"
       ]
      },
      {
       "output_type": "stream",
       "stream": "stdout",
       "text": [
        "\n",
        "[ 0.10031286  0.1055497   0.09202506  0.09455197  0.10135737  0.07927866\n",
        "  0.09155375  0.0969148   0.08612176  0.09381113]"
       ]
      },
      {
       "output_type": "stream",
       "stream": "stdout",
       "text": [
        "\n",
        "[ 0.11051593  0.12966685  0.09999884  0.10591594  0.11479201  0.08819968\n",
        "  0.09942805  0.11632262  0.09368315  0.10573238]"
       ]
      },
      {
       "output_type": "stream",
       "stream": "stdout",
       "text": [
        "\n",
        "[ 0.09656868  0.12139199  0.08607119  0.0977624   0.10118573  0.08122398\n",
        "  0.09105399  0.10285479  0.08716575  0.10411541]"
       ]
      },
      {
       "output_type": "stream",
       "stream": "stdout",
       "text": [
        "\n",
        "[ 0.10248869  0.12630405  0.09754865  0.11276714  0.112745    0.09696642\n",
        "  0.09759069  0.12071737  0.09604951  0.1267733 ]"
       ]
      },
      {
       "output_type": "stream",
       "stream": "stdout",
       "text": [
        "\n",
        "[ 0.10411032  0.12280827  0.08730006  0.08922446  0.08980756  0.07825326\n",
        "  0.08558573  0.1011092   0.08631931  0.0889273 ]"
       ]
      },
      {
       "output_type": "stream",
       "stream": "stdout",
       "text": [
        "\n",
        "[ 0.11558246  0.13350294  0.09850722  0.09336502  0.1188561   0.08758094\n",
        "  0.10878807  0.12103031  0.0947855   0.11210732]"
       ]
      },
      {
       "output_type": "stream",
       "stream": "stdout",
       "text": [
        "\n",
        "0.707666666667"
       ]
      },
      {
       "output_type": "stream",
       "stream": "stdout",
       "text": [
        "\n"
       ]
      }
     ],
     "prompt_number": 130
    },
    {
     "cell_type": "code",
     "collapsed": false,
     "input": [
      "print results[9600]"
     ],
     "language": "python",
     "metadata": {},
     "outputs": [
      {
       "output_type": "stream",
       "stream": "stdout",
       "text": [
        "1\n"
       ]
      }
     ],
     "prompt_number": 125
    },
    {
     "cell_type": "code",
     "collapsed": false,
     "input": [],
     "language": "python",
     "metadata": {},
     "outputs": []
    }
   ],
   "metadata": {}
  }
 ]
}