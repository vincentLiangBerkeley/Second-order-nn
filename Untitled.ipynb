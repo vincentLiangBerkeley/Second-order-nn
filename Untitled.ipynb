{
 "cells": [
  {
   "cell_type": "code",
   "execution_count": 1,
   "metadata": {
    "collapsed": false
   },
   "outputs": [],
   "source": [
    "import numpy as np\n",
    "import scipy.linalg as sp\n",
    "import matplotlib.pyplot as plt\n",
    "%matplotlib inline"
   ]
  },
  {
   "cell_type": "code",
   "execution_count": 2,
   "metadata": {
    "collapsed": false
   },
   "outputs": [],
   "source": [
    "# J = [ NN[l-1] kron A[l-1]  ...  NN[k] kron A[k]  ...  NN[0] kron A[0] ]\n",
    "# Ns, As are lists containing the matrices N_i and A_i\n",
    "# QR_of_J finds the QR factorization of the J matrix\n",
    "# TODO: pivoting\n",
    "def QR_of_J(NN, A):\n",
    "    \n",
    "    currNN = list(NN)\n",
    "    l = len(currNN) \n",
    "    \n",
    "    R = [[None for j in range(l)] for i in range(l)] # list containing R factors of NN\n",
    "    Q = [None for i in range(l)] # list containing Q factors of NN\n",
    "    S = [[None for j in range(l)] for i in range(l)] # list containing R factors of A\n",
    "    U = [None for i in range(l)] # list containing Q factors of A\n",
    "    \n",
    "    for i in range(len(NN)-1,-1,-1):\n",
    "        n = currNN[i].shape[1]\n",
    "        q,r = np.linalg.qr(currNN[i], mode='complete')\n",
    "        Q[i] = q\n",
    "        R[i][i] = r[:n,:]\n",
    "        u,s = np.linalg.qr(A[i], mode='complete')\n",
    "        U[i] = u\n",
    "        S[i][i] = s\n",
    "        for j in range(i-1,-1,-1):\n",
    "            temp = np.dot(q.T,currNN[j])\n",
    "            R[i][j] = temp[:n,:]\n",
    "            currNN[j] = temp[n:,:]\n",
    "            temp2 = np.dot(u.T,A[j])\n",
    "            S[i][j] = temp2\n",
    "    \n",
    "    return [R,S]\n",
    "\n",
    "# assemble full R matrix, for testing\n",
    "def assemble_R(R, S):\n",
    "    l = len(R)\n",
    "    # assemble right most block column\n",
    "    currCol = np.kron(R[l-1][0], S[l-1][0])\n",
    "    for i in range(l-2,-1,-1):\n",
    "        currCol = np.vstack((currCol, np.kron(R[i][0], S[i][0])))\n",
    "    m = currCol.shape[0]\n",
    "    RR = np.copy(currCol)\n",
    "    # assemble other block columns, proceeding from right to left\n",
    "    for j in range(1,l,1):\n",
    "        currCol = np.kron(R[l-1][j], S[l-1][j])\n",
    "        for i in range(l-2,j-1,-1):\n",
    "            currCol = np.vstack((currCol, np.kron(R[i][j], S[i][j])))\n",
    "        currCol = np.vstack((currCol, np.zeros((m-currCol.shape[0], currCol.shape[1]))))\n",
    "        RR = np.hstack((currCol, RR))\n",
    "    return RR\n",
    "\n",
    "# assemble full J matrix, for testing\n",
    "def assemble_J(NN, A):\n",
    "    J = np.kron(NN[l-1], A[l-1])\n",
    "    for i in range(l-2,-1,-1):\n",
    "        J = np.hstack((J, np.kron(NN[i], A[i])))\n",
    "    return J"
   ]
  },
  {
   "cell_type": "code",
   "execution_count": 3,
   "metadata": {
    "collapsed": false
   },
   "outputs": [
    {
     "name": "stdout",
     "output_type": "stream",
     "text": [
      "1.33226762955e-15\n"
     ]
    }
   ],
   "source": [
    "# testing QR_of_J function\n",
    "l = 2\n",
    "dk = 2 \n",
    "dx = dk*l\n",
    "NN = [np.random.randn(dx,dk) for i in range(l)]\n",
    "A = [np.random.randn(dk,dk) for i in range(l)]\n",
    "\n",
    "R,S = QR_of_J(NN,A)\n",
    "RR = assemble_R(R,S)\n",
    "J = assemble_J(NN,A)\n",
    "\n",
    "u,s,v = np.linalg.svd(RR)\n",
    "u,s2,v = np.linalg.svd(J)\n",
    "print(np.max(np.abs(s-s2)))"
   ]
  },
  {
   "cell_type": "code",
   "execution_count": 4,
   "metadata": {
    "collapsed": false
   },
   "outputs": [
    {
     "name": "stdout",
     "output_type": "stream",
     "text": [
      "4.4408920985e-15\n"
     ]
    }
   ],
   "source": [
    "# testing QR_of_J function on non-square matrices\n",
    "l = 2\n",
    "dk = 2\n",
    "dx = dk*l\n",
    "NN = [np.random.randn(dx,dk) for i in range(l)]\n",
    "A = [np.random.randn(dk,3), np.random.randn(dk,4)]\n",
    "\n",
    "R,S = QR_of_J(NN,A)\n",
    "RR = assemble_R(R,S)\n",
    "J = assemble_J(NN,A)\n",
    "\n",
    "u,s,v = np.linalg.svd(RR)\n",
    "u,s2,v = np.linalg.svd(J)\n",
    "print(np.max(np.abs(s-s2)))"
   ]
  },
  {
   "cell_type": "code",
   "execution_count": 5,
   "metadata": {
    "collapsed": true
   },
   "outputs": [],
   "source": [
    "# append zero rows to blocks of S that are short fat matrices\n",
    "def append_zero_rows(S):\n",
    "    \n",
    "    l = len(S)\n",
    "    SS = [[None for j in range(l)] for i in range(l)] # make a new S, don't modify the original within the function\n",
    "    \n",
    "    for i in range(l):\n",
    "        m,n = S[i][i].shape\n",
    "        if m < n: # diagonal block is short fat, append zeros to this and all row blocks\n",
    "            for j in range(i+1):\n",
    "                SS[i][j] = np.vstack((S[i][j], np.zeros((n-m, S[i][j].shape[1]))))\n",
    "        else:\n",
    "            for j in range(i+1):\n",
    "                SS[i][j] = S[i][j]\n",
    "    \n",
    "    return SS\n",
    "\n",
    "# assemble preconditioner R as a full matrix, a square matrix with diagonal abs thresholding by lambda > 0\n",
    "# TODO: handle case when blocks of R, S are tall skinny, for now we assume all blocks are square or short fat\n",
    "def assemble_R_precon(R, S, lamb):\n",
    "    \n",
    "    # add appropriate zeros rows\n",
    "    SS = append_zero_rows(S)\n",
    "    \n",
    "    # assemble R\n",
    "    R_thr = assemble_R(R,SS)\n",
    "    \n",
    "    # apply thresholding\n",
    "    for i in range(R_thr.shape[0]):\n",
    "        R_thr[i][i] = np.max((R_thr[i][i], lamb)) if R_thr[i][i] >= 0 else np.min((R_thr[i][i], -lamb))\n",
    "        \n",
    "    return R_thr\n",
    "        "
   ]
  },
  {
   "cell_type": "code",
   "execution_count": 6,
   "metadata": {
    "collapsed": false
   },
   "outputs": [
    {
     "name": "stdout",
     "output_type": "stream",
     "text": [
      "[[array([[-1.40309308,  1.07135977,  1.00125317],\n",
      "       [ 0.        , -0.18851268, -0.66255294]]), None], [array([[-0.75423517,  0.73487103,  1.09691043],\n",
      "       [-1.18313123,  0.80206817,  0.48813096]]), array([[-1.13680124,  0.35059045,  0.72863931, -1.18789217],\n",
      "       [ 0.        ,  0.79816218,  3.68904472, -0.80495893]])]]\n",
      "[[array([[-1.40309308,  1.07135977,  1.00125317],\n",
      "       [ 0.        , -0.18851268, -0.66255294],\n",
      "       [ 0.        ,  0.        ,  0.        ]]), None], [array([[-0.75423517,  0.73487103,  1.09691043],\n",
      "       [-1.18313123,  0.80206817,  0.48813096],\n",
      "       [ 0.        ,  0.        ,  0.        ],\n",
      "       [ 0.        ,  0.        ,  0.        ]]), array([[-1.13680124,  0.35059045,  0.72863931, -1.18789217],\n",
      "       [ 0.        ,  0.79816218,  3.68904472, -0.80495893],\n",
      "       [ 0.        ,  0.        ,  0.        ,  0.        ],\n",
      "       [ 0.        ,  0.        ,  0.        ,  0.        ]])]]\n",
      "[[ 10.  -1.  -2.   2.   0.  -1.  -1.   0.   0.  -1.  -1.  -1.   0.   0.]\n",
      " [ -0. -10.  -8.   1.  -0.  -1.  -2.   0.   0.  -1.  -1.  -1.   0.   0.]\n",
      " [ -0.  -0.  10.  -0.  -0.  -0.  -0.  -0.  -0.  -0.  -0.   0.   0.   0.]\n",
      " [ -0.  -0.  -0.  10.  -0.  -0.  -0.  -0.  -0.  -0.  -0.   0.   0.   0.]\n",
      " [ -0.   0.   0.  -0. -10.   0.   1.  -4.  -1.   0.   0.  -1.   0.   0.]\n",
      " [  0.   0.   0.  -0.   0.  10.  10.  -3.  -1.   0.   0.  -1.   0.   0.]\n",
      " [  0.   0.   0.   0.   0.   0.  10.   0.   0.   0.   0.   0.   0.   0.]\n",
      " [  0.   0.   0.   0.   0.   0.   0.  10.   0.   0.   0.   0.   0.   0.]\n",
      " [  0.   0.   0.   0.   0.   0.   0.   0. -10.   1.   0.  -1.   0.   0.]\n",
      " [  0.   0.   0.   0.   0.   0.   0.   0.   0. -10.  -1.   0.  -1.  -1.]\n",
      " [  0.   0.   0.   0.   0.   0.   0.   0.   0.   0.  10.   0.   0.   0.]\n",
      " [  0.   0.   0.   0.   0.   0.   0.   0.  -0.   0.   0. -10.   1.   0.]\n",
      " [  0.   0.   0.   0.   0.   0.   0.   0.   0.  -0.  -0.   0. -10.  -1.]\n",
      " [  0.   0.   0.   0.   0.   0.   0.   0.   0.   0.   0.   0.   0.  10.]]\n"
     ]
    }
   ],
   "source": [
    "# testing append_zero_rows function and assemble_R_precon function\n",
    "print(S)\n",
    "SS = append_zero_rows(S)\n",
    "print(SS)\n",
    "\n",
    "R_precon = assemble_R_precon(R,S,10)\n",
    "print(np.floor(R_precon))"
   ]
  },
  {
   "cell_type": "code",
   "execution_count": 7,
   "metadata": {
    "collapsed": false
   },
   "outputs": [],
   "source": [
    "# computes (J^T J + lambda I)x\n",
    "def multiply_J(J, lamb, x):\n",
    "    return np.dot(J.T, np.dot(J,x)) + lamb*x\n",
    "    \n",
    "# solves (R^T R)x = b for x, where R is upper triangular\n",
    "def backsolve(R, b):\n",
    "    #return np.linalg.solve(R, np.linalg.solve(R.T, b))\n",
    "    return sp.solve_triangular(R, sp.solve_triangular(R, b, trans=1))\n",
    "\n",
    "# simple implementation of cg with preconditioning, specific to the case of solving\n",
    "# A = J^T J + lambda I\n",
    "# with preconditioner R such that R^T R approximates A\n",
    "def pcg(J, lamb, R, b, x0, tol = 1.0e-10, max_it = 5000):\n",
    "\n",
    "    # initializations    \n",
    "    x = x0\n",
    "    r0 = b - multiply_J(J, lamb, x)\n",
    "    rtilde0 = backsolve(R,r0)\n",
    "    p = rtilde0\n",
    "\n",
    "    # iterations    \n",
    "    for i in range(max_it):\n",
    "        a = float(np.dot(r0.T, rtilde0)/np.dot(p.T, multiply_J(J, lamb, p)))\n",
    "        x = x + p*a\n",
    "        r = r0 - a*multiply_J(J, lamb, p)\n",
    "\n",
    "        if np.linalg.norm(r) < tol:\n",
    "            return x, i\n",
    "        \n",
    "        rtilde = backsolve(R,r)\n",
    "        b = float(np.dot(r.T, rtilde)/np.dot(r0.T, rtilde0))\n",
    "        p = rtilde + b * p\n",
    "        r0 = r\n",
    "        rtilde0 = rtilde\n",
    "    return x, i"
   ]
  },
  {
   "cell_type": "code",
   "execution_count": 8,
   "metadata": {
    "collapsed": false
   },
   "outputs": [
    {
     "name": "stdout",
     "output_type": "stream",
     "text": [
      "with preconditioning, iterations =  13\n",
      "with no preconditioning, iterations =  156\n"
     ]
    }
   ],
   "source": [
    "# test pcg\n",
    "J = np.random.randn(100,100)\n",
    "b = np.random.randn(100,1)\n",
    "x = np.random.randn(100,1)\n",
    "q,r = np.linalg.qr(J)\n",
    "\n",
    "sol1,i1 = pcg(J, 0.1, r, b, x)\n",
    "print('with preconditioning, iterations = ',i1)\n",
    "sol2,i2 = pcg(J, 0.1, np.eye(100), b, x)\n",
    "print('with no preconditioning, iterations = ',i2)"
   ]
  },
  {
   "cell_type": "code",
   "execution_count": 9,
   "metadata": {
    "collapsed": false
   },
   "outputs": [
    {
     "name": "stdout",
     "output_type": "stream",
     "text": [
      "(800, 2600)\n"
     ]
    }
   ],
   "source": [
    "# testing the effectiveness of the preconditioner, just for matrices, without reference to neural nets\n",
    "l = 3\n",
    "dk = np.array([40, 30, 10])\n",
    "dx = np.sum(dk)\n",
    "NN = [np.random.randn(dx,dk[i]) for i in range(l)]\n",
    "A = [np.random.randn(dk[l-1],dk[i]) for i in range(l)]\n",
    "\n",
    "R,S = QR_of_J(NN,A)\n",
    "J = assemble_J(NN,A)\n",
    "\n",
    "n = J.shape[1]\n",
    "b = np.random.randn(n,1)\n",
    "x = np.zeros((n,1))\n",
    "\n",
    "print(J.shape)"
   ]
  },
  {
   "cell_type": "code",
   "execution_count": 10,
   "metadata": {
    "collapsed": false
   },
   "outputs": [
    {
     "name": "stdout",
     "output_type": "stream",
     "text": [
      "max singular value =  159.323679267\n",
      "min non-zero singuar value =  0.0324776731061\n"
     ]
    },
    {
     "data": {
      "text/plain": [
       "[<matplotlib.lines.Line2D at 0x7f4443fd0dd8>]"
      ]
     },
     "execution_count": 10,
     "metadata": {},
     "output_type": "execute_result"
    },
    {
     "data": {
      "image/png": "[encoded data removed]",
      "text/plain": [
       "<matplotlib.figure.Figure at 0x7f444aa00828>"
      ]
     },
     "metadata": {},
     "output_type": "display_data"
    }
   ],
   "source": [
    "u,s,v = np.linalg.svd(J)\n",
    "print('max singular value = ',max(s))\n",
    "print('min non-zero singuar value = ',min(s))\n",
    "\n",
    "plt.plot(s)"
   ]
  },
  {
   "cell_type": "code",
   "execution_count": 241,
   "metadata": {
    "collapsed": false
   },
   "outputs": [
    {
     "name": "stdout",
     "output_type": "stream",
     "text": [
      "with no preconditioning, iterations =  2414\n",
      "wth preconditioning, iterations =  125\n"
     ]
    }
   ],
   "source": [
    "lamb = 0.1\n",
    "\n",
    "R_precon = assemble_R_precon(R,S,np.sqrt(lamb))\n",
    "sol, i = pcg(J, lamb, np.eye(n), b, x)\n",
    "print('with no preconditioning, iterations = ',i)\n",
    "sol, i = pcg(J, lamb, R_precon, b, x)\n",
    "print('wth preconditioning, iterations = ',i)"
   ]
  },
  {
   "cell_type": "code",
   "execution_count": 242,
   "metadata": {
    "collapsed": false
   },
   "outputs": [
    {
     "name": "stdout",
     "output_type": "stream",
     "text": [
      "with no preconditioning, iterations =  1452\n",
      "wth preconditioning, iterations =  170\n"
     ]
    }
   ],
   "source": [
    "lamb = 1\n",
    "\n",
    "R_precon = assemble_R_precon(R,S,np.sqrt(lamb))\n",
    "sol, i = pcg(J, lamb, np.eye(n), b, x)\n",
    "print('with no preconditioning, iterations = ',i)\n",
    "sol, i = pcg(J, lamb, R_precon, b, x)\n",
    "print('wth preconditioning, iterations = ',i)"
   ]
  },
  {
   "cell_type": "code",
   "execution_count": 243,
   "metadata": {
    "collapsed": false
   },
   "outputs": [
    {
     "name": "stdout",
     "output_type": "stream",
     "text": [
      "with no preconditioning, iterations =  493\n",
      "wth preconditioning, iterations =  312\n"
     ]
    }
   ],
   "source": [
    "lamb = 10\n",
    "\n",
    "R_precon = assemble_R_precon(R,S,np.sqrt(lamb))\n",
    "sol, i = pcg(J, lamb, np.eye(n), b, x)\n",
    "print('with no preconditioning, iterations = ',i)\n",
    "sol, i = pcg(J, lamb, R_precon, b, x)\n",
    "print('wth preconditioning, iterations = ',i)"
   ]
  },
  {
   "cell_type": "code",
   "execution_count": 244,
   "metadata": {
    "collapsed": false
   },
   "outputs": [
    {
     "name": "stdout",
     "output_type": "stream",
     "text": [
      "with no preconditioning, iterations =  159\n",
      "wth preconditioning, iterations =  385\n"
     ]
    }
   ],
   "source": [
    "lamb = 100\n",
    "\n",
    "R_precon = assemble_R_precon(R,S,np.sqrt(lamb))\n",
    "sol, i = pcg(J, lamb, np.eye(n), b, x)\n",
    "print('with no preconditioning, iterations = ',i)\n",
    "sol, i = pcg(J, lamb, R_precon, b, x)\n",
    "print('wth preconditioning, iterations = ',i)"
   ]
  },
  {
   "cell_type": "code",
   "execution_count": 11,
   "metadata": {
    "collapsed": false
   },
   "outputs": [],
   "source": [
    "# note that multiply_J_i and multiply_Jtr_i will be obsolete after implementation of nn since this will \n",
    "# become back propagation\n",
    "\n",
    "# multiply y = J x without explicitly forming J, the implicit version of multiply_J\n",
    "# J = [ NN[l-1] kron A[l-1]  ...  NN[k] kron A[k]  ...  NN[0] kron A[0] ]\n",
    "# returns y = J x\n",
    "def multiply_J_i(NN, A, x):\n",
    "    \n",
    "    l = len(NN)\n",
    "    i_start = 0\n",
    "    M = np.kron(NN[l-1], A[l-1])\n",
    "    m,n = M.shape\n",
    "    y = np.dot(M, x[i_start : i_start+n])\n",
    "    i_start += n\n",
    "    for i in range(l-2,-1,-1):\n",
    "        M = np.kron(NN[i], A[i])\n",
    "        m,n = M.shape\n",
    "        y = y + np.dot(M, x[i_start : i_start+n])\n",
    "        i_start += n\n",
    "    return y\n",
    "\n",
    "# returns y = J^T x\n",
    "def multiply_Jtr_i(NN, A, x):\n",
    "    \n",
    "    l = len(NN)\n",
    "    y = np.dot(np.kron(NN[l-1].T, A[l-1].T), x)\n",
    "    for i in range(l-2,-1,-1):\n",
    "        y = np.vstack((y, np.dot(np.kron(NN[i].T, A[i].T), x)))\n",
    "    return y\n",
    "    \n",
    "# threshold the abs value of the diagonal of the matrix A at lamb\n",
    "# function modifies A in place\n",
    "def threshold_lamb(A, lamb):\n",
    "    for i in range(A.shape[0]):\n",
    "        A[i,i] = np.max((A[i][i], lamb)) if A[i][i] >= 0 else np.min((A[i][i], -lamb))\n",
    "\n",
    "# backsolve R x = b for x, without explicitly forming R\n",
    "# where R,S are kron blocks of R\n",
    "def backsolve_R_i(R, S, lamb, b):\n",
    "    \n",
    "    L = len(R)\n",
    "    i_o_stop = len(b)\n",
    "    x = np.zeros_like(b)\n",
    "    \n",
    "    # block backsolve\n",
    "    for i in range(L):\n",
    "        Ai = np.kron(R[i][i], S[i][i])\n",
    "        threshold_lamb(Ai,lamb)\n",
    "        m,n = Ai.shape\n",
    "        bi = b[i_o_stop-n : i_o_stop]\n",
    "        i_i_start = i_o_stop\n",
    "        for j in range(i-1,-1,-1):\n",
    "            Aij = np.kron(R[i][j], S[i][j])\n",
    "            k,l = Aij.shape\n",
    "            bi = bi - np.dot(Aij, x[i_i_start : i_i_start+l])\n",
    "            i_i_start += l\n",
    "        x[i_o_stop-n : i_o_stop] = sp.solve_triangular(Ai,bi)\n",
    "        i_o_stop -= n\n",
    "    \n",
    "    return x\n",
    "    \n",
    "# backsolve R^T x = b for x, without explicitly forming R\n",
    "# where R,S are kron blocks of R\n",
    "def backsolve_Rtr_i(R, S, lamb, b):\n",
    "    \n",
    "    L = len(R)\n",
    "    i_o_start = 0\n",
    "    x = np.zeros_like(b)\n",
    "    \n",
    "    # block forwardsolve\n",
    "    for i in range(L-1,-1,-1):\n",
    "        Ai = np.kron(R[i][i].T, S[i][i].T)\n",
    "        threshold_lamb(Ai, lamb)\n",
    "        m,n = Ai.shape\n",
    "        bi = b[i_o_start : i_o_start+n]\n",
    "        i_i_stop = i_o_start\n",
    "        for j in range(i+1,L,1):\n",
    "            Aij = np.kron(R[j][i].T, S[j][i].T)\n",
    "            k,l = Aij.shape\n",
    "            bi = bi - np.dot(Aij, x[i_i_stop-l : i_i_stop])\n",
    "            i_i_stop -= l\n",
    "        x[i_o_start : i_o_start+n] = sp.solve_triangular(Ai,bi,lower=True)\n",
    "        i_o_start += n\n",
    "        \n",
    "    return x"
   ]
  },
  {
   "cell_type": "code",
   "execution_count": 12,
   "metadata": {
    "collapsed": false
   },
   "outputs": [
    {
     "name": "stdout",
     "output_type": "stream",
     "text": [
      "2.77555756156e-17\n",
      "2.77555756156e-17\n",
      "8.881784197e-16\n",
      "4.4408920985e-16\n"
     ]
    }
   ],
   "source": [
    "# testing backsolve_R_i, backsolve_Rtr_i functions on non-square matrices\n",
    "l = 2\n",
    "dk = 2\n",
    "dx = dk*l\n",
    "NN = [np.random.randn(dx,dk) for i in range(l)]\n",
    "A = [np.random.randn(dk,3), np.random.randn(dk,4)]\n",
    "lamb = 10\n",
    "\n",
    "R,S = QR_of_J(NN,A)\n",
    "SS = append_zero_rows(S)\n",
    "\n",
    "R_precon = assemble_R_precon(R,S,lamb)\n",
    "\n",
    "b = np.random.randn(R_precon.shape[0],1)\n",
    "\n",
    "sol = backsolve_R_i(R,SS,lamb,b)\n",
    "sol_exact = sp.solve_triangular(R_precon,b)\n",
    "\n",
    "print(np.max(np.abs(sol-sol_exact)))\n",
    "\n",
    "sol2 = backsolve_Rtr_i(R,SS,10,b)\n",
    "sol2_exact = sp.solve_triangular(R_precon.T,b,lower=True)\n",
    "\n",
    "print(np.max(np.abs(sol2-sol2_exact)))\n",
    "\n",
    "# testing multiply_J_i, multiply_Jtr_i\n",
    "J = assemble_J(NN,A)\n",
    "v = np.random.randn(J.shape[1],1)\n",
    "w = np.random.randn(J.shape[0],1)\n",
    "\n",
    "sol = multiply_J_i(NN,A,v)\n",
    "sol_exact = np.dot(J,v)\n",
    "\n",
    "print(np.max(np.abs(sol-sol_exact)))\n",
    "\n",
    "sol2 = multiply_Jtr_i(NN,A,w)\n",
    "sol2_exact = np.dot(J.T,w)\n",
    "\n",
    "print(np.max(np.abs(sol2-sol2_exact)))"
   ]
  },
  {
   "cell_type": "code",
   "execution_count": 412,
   "metadata": {
    "collapsed": true
   },
   "outputs": [],
   "source": [
    "# computes (J^T J + lambda I)x\n",
    "def multiply_A_i(NN, A, lamb, x):\n",
    "    return multiply_Jtr_i(NN, A, multiply_J_i(NN, A, x)) + lamb*x\n",
    "    \n",
    "# solves (R^T R)x = b for x, where R is upper triangular\n",
    "def backsolve_i(R, S, lamb, b):\n",
    "    return backsolve_R_i(R, S, lamb, backsolve_Rtr_i(R, S, lamb, b))\n",
    "\n",
    "# simple implementation of cg with preconditioning, specific to the case of solving\n",
    "# A = J^T J + lambda I\n",
    "# with preconditioner R such that R^T R approximates A\n",
    "def pcg_i(NN, A, lamb, R, S, b, x0, tol = 1.0e-1, max_it = 5000, is_p = True):\n",
    "\n",
    "    # initializations    \n",
    "    x = x0\n",
    "    r0 = b - multiply_A_i(NN, A, lamb, x)\n",
    "    rtilde0 = backsolve_i(R, S, np.sqrt(lamb),r0) if is_p else r0\n",
    "    p = rtilde0\n",
    "\n",
    "    # iterations    \n",
    "    for i in range(max_it):\n",
    "        v = multiply_A_i(NN, A, lamb, p)\n",
    "        a = float(np.dot(r0.T, rtilde0)/np.dot(p.T, v))\n",
    "        x = x + p*a\n",
    "        r = r0 - a*v\n",
    "\n",
    "        if np.linalg.norm(r) < tol:\n",
    "            return x, i\n",
    "        \n",
    "        rtilde = backsolve_i(R, S, np.sqrt(lamb), r) if is_p else r\n",
    "        b = float(np.dot(r.T, rtilde)/np.dot(r0.T, rtilde0))\n",
    "        p = rtilde + b * p\n",
    "        r0 = r\n",
    "        rtilde0 = rtilde\n",
    "    return x, i"
   ]
  },
  {
   "cell_type": "code",
   "execution_count": 413,
   "metadata": {
    "collapsed": true
   },
   "outputs": [],
   "source": [
    "# return shape of J without forming it\n",
    "def shape_J(NN, A):\n",
    "    m = NN[0].shape[0]*A[0].shape[0]\n",
    "    n = 0\n",
    "    for i in range(len(NN)):\n",
    "        n += NN[i].shape[1]*A[i].shape[1]\n",
    "    return (m,n)"
   ]
  },
  {
   "cell_type": "code",
   "execution_count": 414,
   "metadata": {
    "collapsed": false
   },
   "outputs": [
    {
     "name": "stdout",
     "output_type": "stream",
     "text": [
      "(1800, 15000)\n"
     ]
    }
   ],
   "source": [
    "# testing the effectiveness of the preconditioner, just for matrices, without reference to neural nets\n",
    "l = 3\n",
    "dk = np.array([100, 70, 10])\n",
    "dx = np.sum(dk)\n",
    "NN = [np.random.randn(dx,dk[i]) for i in range(l)]\n",
    "A = [np.random.randn(dk[l-1],dk[i]) for i in range(l)]\n",
    "\n",
    "R,S = QR_of_J(NN,A)\n",
    "SS = append_zero_rows(S)\n",
    "\n",
    "n = shape_J(NN,A)[1]\n",
    "b = np.random.randn(n,1)\n",
    "x = np.zeros((n,1))\n",
    "\n",
    "print(shape_J(NN,A))"
   ]
  },
  {
   "cell_type": "code",
   "execution_count": 415,
   "metadata": {
    "collapsed": false
   },
   "outputs": [
    {
     "ename": "KeyboardInterrupt",
     "evalue": "",
     "output_type": "error",
     "traceback": [
      "\u001b[1;31m---------------------------------------------------------------------------\u001b[0m",
      "\u001b[1;31mKeyboardInterrupt\u001b[0m                         Traceback (most recent call last)",
      "\u001b[1;32m<ipython-input-415-f3be5774779e>\u001b[0m in \u001b[0;36m<module>\u001b[1;34m()\u001b[0m\n\u001b[0;32m      1\u001b[0m \u001b[0mlamb\u001b[0m \u001b[1;33m=\u001b[0m \u001b[1;36m10\u001b[0m\u001b[1;33m\u001b[0m\u001b[0m\n\u001b[0;32m      2\u001b[0m \u001b[1;33m\u001b[0m\u001b[0m\n\u001b[1;32m----> 3\u001b[1;33m \u001b[0msol\u001b[0m\u001b[1;33m,\u001b[0m \u001b[0mi\u001b[0m \u001b[1;33m=\u001b[0m \u001b[0mpcg_i\u001b[0m\u001b[1;33m(\u001b[0m\u001b[0mNN\u001b[0m\u001b[1;33m,\u001b[0m \u001b[0mA\u001b[0m\u001b[1;33m,\u001b[0m \u001b[0mlamb\u001b[0m\u001b[1;33m,\u001b[0m \u001b[0mR\u001b[0m\u001b[1;33m,\u001b[0m \u001b[0mSS\u001b[0m\u001b[1;33m,\u001b[0m \u001b[0mb\u001b[0m\u001b[1;33m,\u001b[0m \u001b[0mx\u001b[0m\u001b[1;33m)\u001b[0m\u001b[1;33m\u001b[0m\u001b[0m\n\u001b[0m\u001b[0;32m      4\u001b[0m \u001b[0mprint\u001b[0m\u001b[1;33m(\u001b[0m\u001b[1;34m'with preconditioning, iterations = '\u001b[0m\u001b[1;33m,\u001b[0m\u001b[0mi\u001b[0m\u001b[1;33m)\u001b[0m\u001b[1;33m\u001b[0m\u001b[0m\n\u001b[0;32m      5\u001b[0m \u001b[0msol2\u001b[0m\u001b[1;33m,\u001b[0m \u001b[0mi2\u001b[0m \u001b[1;33m=\u001b[0m \u001b[0mpcg_i\u001b[0m\u001b[1;33m(\u001b[0m\u001b[0mNN\u001b[0m\u001b[1;33m,\u001b[0m \u001b[0mA\u001b[0m\u001b[1;33m,\u001b[0m \u001b[0mlamb\u001b[0m\u001b[1;33m,\u001b[0m \u001b[0mR\u001b[0m\u001b[1;33m,\u001b[0m \u001b[0mSS\u001b[0m\u001b[1;33m,\u001b[0m \u001b[0mb\u001b[0m\u001b[1;33m,\u001b[0m \u001b[0mx\u001b[0m\u001b[1;33m,\u001b[0m \u001b[0mis_p\u001b[0m \u001b[1;33m=\u001b[0m \u001b[1;32mFalse\u001b[0m\u001b[1;33m)\u001b[0m\u001b[1;33m\u001b[0m\u001b[0m\n",
      "\u001b[1;32m<ipython-input-412-b645af0c4cd7>\u001b[0m in \u001b[0;36mpcg_i\u001b[1;34m(NN, A, lamb, R, S, b, x0, tol, max_it, is_p)\u001b[0m\n\u001b[0;32m     28\u001b[0m             \u001b[1;32mreturn\u001b[0m \u001b[0mx\u001b[0m\u001b[1;33m,\u001b[0m \u001b[0mi\u001b[0m\u001b[1;33m\u001b[0m\u001b[0m\n\u001b[0;32m     29\u001b[0m \u001b[1;33m\u001b[0m\u001b[0m\n\u001b[1;32m---> 30\u001b[1;33m         \u001b[0mrtilde\u001b[0m \u001b[1;33m=\u001b[0m \u001b[0mbacksolve_i\u001b[0m\u001b[1;33m(\u001b[0m\u001b[0mR\u001b[0m\u001b[1;33m,\u001b[0m \u001b[0mS\u001b[0m\u001b[1;33m,\u001b[0m \u001b[0mnp\u001b[0m\u001b[1;33m.\u001b[0m\u001b[0msqrt\u001b[0m\u001b[1;33m(\u001b[0m\u001b[0mlamb\u001b[0m\u001b[1;33m)\u001b[0m\u001b[1;33m,\u001b[0m \u001b[0mr\u001b[0m\u001b[1;33m)\u001b[0m \u001b[1;32mif\u001b[0m \u001b[0mis_p\u001b[0m \u001b[1;32melse\u001b[0m \u001b[0mr\u001b[0m\u001b[1;33m\u001b[0m\u001b[0m\n\u001b[0m\u001b[0;32m     31\u001b[0m         \u001b[0mb\u001b[0m \u001b[1;33m=\u001b[0m \u001b[0mfloat\u001b[0m\u001b[1;33m(\u001b[0m\u001b[0mnp\u001b[0m\u001b[1;33m.\u001b[0m\u001b[0mdot\u001b[0m\u001b[1;33m(\u001b[0m\u001b[0mr\u001b[0m\u001b[1;33m.\u001b[0m\u001b[0mT\u001b[0m\u001b[1;33m,\u001b[0m \u001b[0mrtilde\u001b[0m\u001b[1;33m)\u001b[0m\u001b[1;33m/\u001b[0m\u001b[0mnp\u001b[0m\u001b[1;33m.\u001b[0m\u001b[0mdot\u001b[0m\u001b[1;33m(\u001b[0m\u001b[0mr0\u001b[0m\u001b[1;33m.\u001b[0m\u001b[0mT\u001b[0m\u001b[1;33m,\u001b[0m \u001b[0mrtilde0\u001b[0m\u001b[1;33m)\u001b[0m\u001b[1;33m)\u001b[0m\u001b[1;33m\u001b[0m\u001b[0m\n\u001b[0;32m     32\u001b[0m         \u001b[0mp\u001b[0m \u001b[1;33m=\u001b[0m \u001b[0mrtilde\u001b[0m \u001b[1;33m+\u001b[0m \u001b[0mb\u001b[0m \u001b[1;33m*\u001b[0m \u001b[0mp\u001b[0m\u001b[1;33m\u001b[0m\u001b[0m\n",
      "\u001b[1;32m<ipython-input-412-b645af0c4cd7>\u001b[0m in \u001b[0;36mbacksolve_i\u001b[1;34m(R, S, lamb, b)\u001b[0m\n\u001b[0;32m      5\u001b[0m \u001b[1;31m# solves (R^T R)x = b for x, where R is upper triangular\u001b[0m\u001b[1;33m\u001b[0m\u001b[1;33m\u001b[0m\u001b[0m\n\u001b[0;32m      6\u001b[0m \u001b[1;32mdef\u001b[0m \u001b[0mbacksolve_i\u001b[0m\u001b[1;33m(\u001b[0m\u001b[0mR\u001b[0m\u001b[1;33m,\u001b[0m \u001b[0mS\u001b[0m\u001b[1;33m,\u001b[0m \u001b[0mlamb\u001b[0m\u001b[1;33m,\u001b[0m \u001b[0mb\u001b[0m\u001b[1;33m)\u001b[0m\u001b[1;33m:\u001b[0m\u001b[1;33m\u001b[0m\u001b[0m\n\u001b[1;32m----> 7\u001b[1;33m     \u001b[1;32mreturn\u001b[0m \u001b[0mbacksolve_R_i\u001b[0m\u001b[1;33m(\u001b[0m\u001b[0mR\u001b[0m\u001b[1;33m,\u001b[0m \u001b[0mS\u001b[0m\u001b[1;33m,\u001b[0m \u001b[0mlamb\u001b[0m\u001b[1;33m,\u001b[0m \u001b[0mbacksolve_Rtr_i\u001b[0m\u001b[1;33m(\u001b[0m\u001b[0mR\u001b[0m\u001b[1;33m,\u001b[0m \u001b[0mS\u001b[0m\u001b[1;33m,\u001b[0m \u001b[0mlamb\u001b[0m\u001b[1;33m,\u001b[0m \u001b[0mb\u001b[0m\u001b[1;33m)\u001b[0m\u001b[1;33m)\u001b[0m\u001b[1;33m\u001b[0m\u001b[0m\n\u001b[0m\u001b[0;32m      8\u001b[0m \u001b[1;33m\u001b[0m\u001b[0m\n\u001b[0;32m      9\u001b[0m \u001b[1;31m# simple implementation of cg with preconditioning, specific to the case of solving\u001b[0m\u001b[1;33m\u001b[0m\u001b[1;33m\u001b[0m\u001b[0m\n",
      "\u001b[1;32m<ipython-input-402-ec02dc9b4b0e>\u001b[0m in \u001b[0;36mbacksolve_Rtr_i\u001b[1;34m(R, S, lamb, b)\u001b[0m\n\u001b[0;32m     44\u001b[0m             \u001b[0mbi\u001b[0m \u001b[1;33m=\u001b[0m \u001b[0mbi\u001b[0m \u001b[1;33m-\u001b[0m \u001b[0mnp\u001b[0m\u001b[1;33m.\u001b[0m\u001b[0mdot\u001b[0m\u001b[1;33m(\u001b[0m\u001b[0mAij\u001b[0m\u001b[1;33m,\u001b[0m \u001b[0mx\u001b[0m\u001b[1;33m[\u001b[0m\u001b[0mi_i_stop\u001b[0m\u001b[1;33m-\u001b[0m\u001b[0ml\u001b[0m \u001b[1;33m:\u001b[0m \u001b[0mi_i_stop\u001b[0m\u001b[1;33m]\u001b[0m\u001b[1;33m)\u001b[0m\u001b[1;33m\u001b[0m\u001b[0m\n\u001b[0;32m     45\u001b[0m             \u001b[0mi_i_stop\u001b[0m \u001b[1;33m-=\u001b[0m \u001b[0ml\u001b[0m\u001b[1;33m\u001b[0m\u001b[0m\n\u001b[1;32m---> 46\u001b[1;33m         \u001b[0mx\u001b[0m\u001b[1;33m[\u001b[0m\u001b[0mi_o_start\u001b[0m \u001b[1;33m:\u001b[0m \u001b[0mi_o_start\u001b[0m\u001b[1;33m+\u001b[0m\u001b[0mn\u001b[0m\u001b[1;33m]\u001b[0m \u001b[1;33m=\u001b[0m \u001b[0msp\u001b[0m\u001b[1;33m.\u001b[0m\u001b[0msolve_triangular\u001b[0m\u001b[1;33m(\u001b[0m\u001b[0mAi\u001b[0m\u001b[1;33m,\u001b[0m\u001b[0mbi\u001b[0m\u001b[1;33m,\u001b[0m\u001b[0mlower\u001b[0m\u001b[1;33m=\u001b[0m\u001b[1;32mTrue\u001b[0m\u001b[1;33m)\u001b[0m\u001b[1;33m\u001b[0m\u001b[0m\n\u001b[0m\u001b[0;32m     47\u001b[0m         \u001b[0mi_o_start\u001b[0m \u001b[1;33m+=\u001b[0m \u001b[0mn\u001b[0m\u001b[1;33m\u001b[0m\u001b[0m\n\u001b[0;32m     48\u001b[0m \u001b[1;33m\u001b[0m\u001b[0m\n",
      "\u001b[1;32m/home/qyuan/anaconda3/lib/python3.5/site-packages/scipy/linalg/basic.py\u001b[0m in \u001b[0;36msolve_triangular\u001b[1;34m(a, b, trans, lower, unit_diagonal, overwrite_b, debug, check_finite)\u001b[0m\n\u001b[0;32m    167\u001b[0m     \u001b[0mtrtrs\u001b[0m\u001b[1;33m,\u001b[0m \u001b[1;33m=\u001b[0m \u001b[0mget_lapack_funcs\u001b[0m\u001b[1;33m(\u001b[0m\u001b[1;33m(\u001b[0m\u001b[1;34m'trtrs'\u001b[0m\u001b[1;33m,\u001b[0m\u001b[1;33m)\u001b[0m\u001b[1;33m,\u001b[0m \u001b[1;33m(\u001b[0m\u001b[0ma1\u001b[0m\u001b[1;33m,\u001b[0m \u001b[0mb1\u001b[0m\u001b[1;33m)\u001b[0m\u001b[1;33m)\u001b[0m\u001b[1;33m\u001b[0m\u001b[0m\n\u001b[0;32m    168\u001b[0m     x, info = trtrs(a1, b1, overwrite_b=overwrite_b, lower=lower,\n\u001b[1;32m--> 169\u001b[1;33m                     trans=trans, unitdiag=unit_diagonal)\n\u001b[0m\u001b[0;32m    170\u001b[0m \u001b[1;33m\u001b[0m\u001b[0m\n\u001b[0;32m    171\u001b[0m     \u001b[1;32mif\u001b[0m \u001b[0minfo\u001b[0m \u001b[1;33m==\u001b[0m \u001b[1;36m0\u001b[0m\u001b[1;33m:\u001b[0m\u001b[1;33m\u001b[0m\u001b[0m\n",
      "\u001b[1;31mKeyboardInterrupt\u001b[0m: "
     ]
    }
   ],
   "source": [
    "lamb = 10\n",
    "\n",
    "sol, i = pcg_i(NN, A, lamb, R, SS, b, x)\n",
    "print('with preconditioning, iterations = ',i)\n",
    "sol2, i2 = pcg_i(NN, A, lamb, R, SS, b, x, is_p = False)\n",
    "print('with no preconditioning, iterations = ',i2)"
   ]
  },
  {
   "cell_type": "code",
   "execution_count": 274,
   "metadata": {
    "collapsed": false
   },
   "outputs": [
    {
     "name": "stdout",
     "output_type": "stream",
     "text": [
      "with preconditioning, iterations =  147\n",
      "with no preconditioning, iterations =  1017\n"
     ]
    }
   ],
   "source": [
    "lamb = 1\n",
    "\n",
    "sol, i = pcg_i(NN, A, lamb, R, SS, b, x)\n",
    "print('with preconditioning, iterations = ',i)\n",
    "sol2, i2 = pcg_i(NN, A, lamb, R, SS, b, x, is_p = False)\n",
    "print('with no preconditioning, iterations = ',i2)"
   ]
  },
  {
   "cell_type": "code",
   "execution_count": 275,
   "metadata": {
    "collapsed": false
   },
   "outputs": [
    {
     "name": "stdout",
     "output_type": "stream",
     "text": [
      "with preconditioning, iterations =  78\n",
      "with no preconditioning, iterations =  3031\n"
     ]
    }
   ],
   "source": [
    "lamb = 0.1\n",
    "\n",
    "sol, i = pcg_i(NN, A, lamb, R, SS, b, x)\n",
    "print('with preconditioning, iterations = ',i)\n",
    "sol2, i2 = pcg_i(NN, A, lamb, R, SS, b, x, is_p = False)\n",
    "print('with no preconditioning, iterations = ',i2)"
   ]
  },
  {
   "cell_type": "code",
   "execution_count": 17,
   "metadata": {
    "collapsed": false
   },
   "outputs": [
    {
     "name": "stdout",
     "output_type": "stream",
     "text": [
      "(3100, 50100)\n"
     ]
    }
   ],
   "source": [
    "# testing the effectiveness of the preconditioner, just for matrices, without reference to neural nets\n",
    "l = 3\n",
    "dk = np.array([200, 100, 10])\n",
    "dx = np.sum(dk)\n",
    "NN = [np.random.randn(dx,dk[i]) for i in range(l)]\n",
    "A = [np.random.randn(dk[l-1],dk[i]) for i in range(l)]\n",
    "\n",
    "R,S = QR_of_J(NN,A)\n",
    "SS = append_zero_rows(S)\n",
    "\n",
    "n = shape_J(NN,A)[1]\n",
    "b = np.random.randn(n,1)\n",
    "x = np.zeros((n,1))\n",
    "\n",
    "print(shape_J(NN,A))"
   ]
  },
  {
   "cell_type": "markdown",
   "metadata": {},
   "source": [
    "# Implementation of ( J^T J + lamb I ) x"
   ]
  },
  {
   "cell_type": "code",
   "execution_count": 288,
   "metadata": {
    "collapsed": false
   },
   "outputs": [],
   "source": [
    "# returns Y = J times X, Y = list of matrices\n",
    "# N = list of matrices\n",
    "# W = list of matrices\n",
    "# F = list of functions, derivative of activation function\n",
    "# X = list of matrices\n",
    "def multiply_J(N, W, F, X):\n",
    "    l = len(W)\n",
    "    Y_old = np.zeros(N[0].shape)\n",
    "    for i in range(l):\n",
    "        Y_new = F[i](np.dot(W[i],N[i])) * (np.dot(X[i], N[i]) + np.dot(W[i], Y_old))\n",
    "        Y_old = Y_new\n",
    "    return Y_new"
   ]
  },
  {
   "cell_type": "code",
   "execution_count": 289,
   "metadata": {
    "collapsed": false
   },
   "outputs": [],
   "source": [
    "# function for testing\n",
    "def form_Jtr(N, W, F):\n",
    "    n = []\n",
    "    J_t = []\n",
    "    for w in W:\n",
    "        n.append(w.shape[0]*w.shape[1])\n",
    "    total = sum(n)\n",
    "    E = np.zeros((total, 1))\n",
    "    for i in range(total):\n",
    "        E[i] = 1\n",
    "        X = []\n",
    "        start = 0\n",
    "        for j in range(len(W)):\n",
    "            X.append(np.reshape(E[start:start + n[j]], W[j].shape, order='F'))\n",
    "            start += n[j]\n",
    "        J_t.append(multiply_J(N, W, F, X).flatten('F'))\n",
    "        E[i] = 0\n",
    "    return np.matrix(J_t)"
   ]
  },
  {
   "cell_type": "code",
   "execution_count": 35,
   "metadata": {
    "collapsed": true
   },
   "outputs": [],
   "source": [
    "# Now define the most primitive functions\n",
    "def sigmoid(x):\n",
    "    return 1.0 / (1.0 + np.exp(-x))\n",
    "\n",
    "def sigmoid_gradient(x):\n",
    "    return sigmoid(x) * (1 - sigmoid(x))\n",
    "\n",
    "def tanh(x):\n",
    "    return np.tanh(x)\n",
    "\n",
    "def tanh_gradient(x):\n",
    "    return 1 - tanh(x) * tanh(x)\n",
    "\n",
    "def relu(x):\n",
    "    return [i if i > 0 else 0 for i in x]\n",
    "\n",
    "def relu_gradient(x):\n",
    "    return [1 if i > 0 else 0 for i in x]"
   ]
  },
  {
   "cell_type": "code",
   "execution_count": 36,
   "metadata": {
    "collapsed": true
   },
   "outputs": [],
   "source": [
    "# Build a toy network without bias terms\n",
    "# Returns Ns as a list of matrices\n",
    "# W is a list of matrices\n",
    "# N0 = input data matrix\n",
    "# F = list of activation functions\n",
    "def forward_params(W, N0, F):\n",
    "    N = [N0]\n",
    "    l = len(W)\n",
    "    for i in range(l):\n",
    "        N.append(F[i](np.dot(W[i], N[i])))\n",
    "    return N"
   ]
  },
  {
   "cell_type": "code",
   "execution_count": 300,
   "metadata": {
    "collapsed": true
   },
   "outputs": [],
   "source": [
    "# Build synthetic data\n",
    "EPS = 1e-2\n",
    "N_0 = np.random.randn(50, 10)\n",
    "W_1 = np.random.randn(300, 50)\n",
    "W_2 = np.random.randn(5, 300)\n",
    "W = [W_1, W_2]\n",
    "F = [sigmoid_gradient, tanh_gradient]\n",
    "F_forward = [sigmoid, tanh]"
   ]
  },
  {
   "cell_type": "code",
   "execution_count": 301,
   "metadata": {
    "collapsed": false
   },
   "outputs": [],
   "source": [
    "# Initialize small perturbation\n",
    "X_1 = np.random.randn(W_1.shape[0], W_1.shape[1])*EPS\n",
    "X_2 = np.random.randn(W_2.shape[0], W_2.shape[1])*EPS"
   ]
  },
  {
   "cell_type": "code",
   "execution_count": 302,
   "metadata": {
    "collapsed": false
   },
   "outputs": [],
   "source": [
    "N_old = forward_params(W, N_0, F_forward)\n",
    "N_new = forward_params([W_1+X_1, W_2+X_2], N_0, F_forward)\n",
    "Y = multiply_J(N_old, W, F, [X_1, X_2])"
   ]
  },
  {
   "cell_type": "code",
   "execution_count": 303,
   "metadata": {
    "collapsed": false
   },
   "outputs": [
    {
     "name": "stdout",
     "output_type": "stream",
     "text": [
      "0.00769914967201\n"
     ]
    }
   ],
   "source": [
    "# testing that multiply_J is correct\n",
    "print(np.max(abs(N_new[-1]-N_old[-1]-Y)))"
   ]
  },
  {
   "cell_type": "code",
   "execution_count": 304,
   "metadata": {
    "collapsed": false
   },
   "outputs": [],
   "source": [
    "# testing that form_Jtr is correct\n",
    "Jtr = form_Jtr(N_old, W, F)"
   ]
  },
  {
   "cell_type": "code",
   "execution_count": 312,
   "metadata": {
    "collapsed": false,
    "scrolled": true
   },
   "outputs": [
    {
     "name": "stdout",
     "output_type": "stream",
     "text": [
      "2.49800180541e-16\n"
     ]
    }
   ],
   "source": [
    "X_vec = np.vstack((np.matrix(X_1.flatten('F')).T, np.matrix(X_2.flatten('F')).T))\n",
    "direct = np.dot(Jtr.T, X_vec)\n",
    "\n",
    "#indirect = multiply_J(N_old, W, F, [X_1, X_2]).flatten('F')\n",
    "indirect = Y.flatten('F')\n",
    "\n",
    "print(np.max(np.abs(direct - np.matrix(indirect).T)))"
   ]
  },
  {
   "cell_type": "code",
   "execution_count": 353,
   "metadata": {
    "collapsed": true
   },
   "outputs": [],
   "source": [
    "# returns X = list of matrices [X_l, .... X_0]\n",
    "def multiply_Jtr(N, W, F, X):\n",
    "    l = len(W)\n",
    "    Z_old = F[-1](np.dot(W[l-1], N[l-1])) * X\n",
    "    Xlist = [np.dot(Z_old, N[l-1].T)]\n",
    "    for i in range(l-2,-1,-1):\n",
    "        Z_new = F[i](np.dot(W[i], N[i])) * (np.dot(W[i+1].T, Z_old))\n",
    "        Xlist.append(np.dot(Z_new, N[i].T))\n",
    "        Z_old = Z_new\n",
    "    Xlist.reverse()\n",
    "    return Xlist"
   ]
  },
  {
   "cell_type": "code",
   "execution_count": 354,
   "metadata": {
    "collapsed": false
   },
   "outputs": [
    {
     "data": {
      "text/plain": [
       "2"
      ]
     },
     "execution_count": 354,
     "metadata": {},
     "output_type": "execute_result"
    }
   ],
   "source": [
    "len(multiply_Jtr(N_old, W, F, Y))"
   ]
  },
  {
   "cell_type": "code",
   "execution_count": 355,
   "metadata": {
    "collapsed": false
   },
   "outputs": [],
   "source": [
    "direct = np.dot(Jtr, Y.flatten('F'))\n",
    "indirect = multiply_Jtr(N_old, W, F, Y)"
   ]
  },
  {
   "cell_type": "code",
   "execution_count": 356,
   "metadata": {
    "collapsed": false
   },
   "outputs": [],
   "source": [
    "X1 = indirect[0].flatten('F')\n",
    "X2 = indirect[1].flatten('F')\n",
    "x = np.vstack((np.matrix(X1).T, np.matrix(X2).T))"
   ]
  },
  {
   "cell_type": "code",
   "execution_count": 357,
   "metadata": {
    "collapsed": false
   },
   "outputs": [
    {
     "name": "stdout",
     "output_type": "stream",
     "text": [
      "(1, 16500) (16500, 1)\n"
     ]
    }
   ],
   "source": [
    "print(direct.shape, x.shape)"
   ]
  },
  {
   "cell_type": "code",
   "execution_count": 358,
   "metadata": {
    "collapsed": false
   },
   "outputs": [
    {
     "name": "stdout",
     "output_type": "stream",
     "text": [
      "1.11022302463e-16\n"
     ]
    }
   ],
   "source": [
    "print(np.max(abs(direct-x.T)))"
   ]
  },
  {
   "cell_type": "code",
   "execution_count": 402,
   "metadata": {
    "collapsed": true
   },
   "outputs": [],
   "source": [
    "# backsolve R x = b for x, without explicitly forming R\n",
    "# where R,S are kron blocks of R\n",
    "def backsolve_R_i(R, S, lamb, b):\n",
    "    \n",
    "    L = len(R)\n",
    "    i_o_stop = len(b)\n",
    "    x = np.zeros_like(b)\n",
    "    \n",
    "    # block backsolve\n",
    "    for i in range(L):\n",
    "        Ai = np.kron(R[i][i], S[i][i])\n",
    "        threshold_lamb(Ai,lamb)\n",
    "        m,n = Ai.shape\n",
    "        bi = b[i_o_stop-n : i_o_stop]\n",
    "        i_i_start = i_o_stop\n",
    "        for j in range(i-1,-1,-1):\n",
    "            Aij = np.kron(R[i][j], S[i][j])\n",
    "            k,l = Aij.shape\n",
    "            bi = bi - np.dot(Aij, x[i_i_start : i_i_start+l])\n",
    "            i_i_start += l\n",
    "        x[i_o_stop-n : i_o_stop] = sp.solve_triangular(Ai,bi)\n",
    "        i_o_stop -= n\n",
    "    \n",
    "    return x\n",
    "    \n",
    "# backsolve R^T x = b for x, without explicitly forming R\n",
    "# where R,S are kron blocks of R\n",
    "def backsolve_Rtr_i(R, S, lamb, b):\n",
    "    \n",
    "    L = len(R)\n",
    "    i_o_start = 0\n",
    "    x = np.zeros_like(b)\n",
    "    \n",
    "    # block forwardsolve\n",
    "    for i in range(L-1,-1,-1):\n",
    "        Ai = np.kron(R[i][i].T, S[i][i].T)\n",
    "        threshold_lamb(Ai, lamb)\n",
    "        m,n = Ai.shape\n",
    "        bi = b[i_o_start : i_o_start+n]\n",
    "        i_i_stop = i_o_start\n",
    "        for j in range(i+1,L,1):\n",
    "            Aij = np.kron(R[j][i].T, S[j][i].T)\n",
    "            k,l = Aij.shape\n",
    "            bi = bi - np.dot(Aij, x[i_i_stop-l : i_i_stop])\n",
    "            i_i_stop -= l\n",
    "        x[i_o_start : i_o_start+n] = sp.solve_triangular(Ai,bi,lower=True)\n",
    "        i_o_start += n\n",
    "        \n",
    "    return x\n",
    "\n",
    "# computes (J^T J + lambda I)x\n",
    "def multiply_A_i(N, W, F, lamb, x):\n",
    "    \n",
    "    print(x.shape)\n",
    "    \n",
    "    shapes = [w.shape for w in W]\n",
    "    print(shapes)\n",
    "    Xlist = vec_to_mat(x, shapes)\n",
    "    Y = multiply_Jtr(N, W, F, multiply_J(N, W, F, Xlist))\n",
    "    y = mat_to_vec(Y)\n",
    "    \n",
    "    return y + lamb*x\n",
    "         \n",
    "    \n",
    "# solves (R^T R)x = b for x, where R is upper triangular\n",
    "def backsolve_i(R, S, lamb, b):\n",
    "    return backsolve_R_i(R, S, lamb, backsolve_Rtr_i(R, S, lamb, b))\n",
    "\n",
    "# simple implementation of cg with preconditioning, specific to the case of solving\n",
    "# A = J^T J + lambda I\n",
    "# with preconditioner R such that R^T R approximates A\n",
    "def pcg_i(N, W, F, lamb, R, S, b, x0, tol = 1.0e-1, max_it = 5000, is_p = True):\n",
    "\n",
    "    # initializations    \n",
    "    x = x0\n",
    "    r0 = b - multiply_A_i(N, W, F, lamb, x)\n",
    "    rtilde0 = backsolve_i(R, S, np.sqrt(lamb),r0) if is_p else r0\n",
    "    p = rtilde0\n",
    "\n",
    "    # iterations    \n",
    "    for i in range(max_it):\n",
    "        v = multiply_A_i(N, W, F, lamb, p)\n",
    "        a = float(np.dot(r0.T, rtilde0)/np.dot(p.T, v))\n",
    "        x = x + p*a\n",
    "        r = r0 - a*v\n",
    "\n",
    "        if np.linalg.norm(r) < tol:\n",
    "            return x, i\n",
    "        \n",
    "        rtilde = backsolve_i(R, S, np.sqrt(lamb), r) if is_p else r\n",
    "        b = float(np.dot(r.T, rtilde)/np.dot(r0.T, rtilde0))\n",
    "        p = rtilde + b * p\n",
    "        r0 = r\n",
    "        rtilde0 = rtilde\n",
    "    return x, i"
   ]
  },
  {
   "cell_type": "code",
   "execution_count": 403,
   "metadata": {
    "collapsed": true
   },
   "outputs": [],
   "source": [
    "def mat_to_vec(Xlist):\n",
    "    vec = np.matrix(Xlist[0].flatten('F')).T\n",
    "    for i in range(1,len(Xlist)):\n",
    "        vec = np.vstack((vec, np.matrix(Xlist[i].flatten('F')).T))\n",
    "    return vec\n",
    "\n",
    "def vec_to_mat(vec, shapes):\n",
    "    Xlist = []\n",
    "    start = 0\n",
    "    for shape in shapes:\n",
    "        n = shape[0]*shape[1]\n",
    "        Xlist.append(np.reshape(vec[start:start + n], shape, order='F'))\n",
    "        start += n\n",
    "    return Xlist"
   ]
  },
  {
   "cell_type": "code",
   "execution_count": 404,
   "metadata": {
    "collapsed": false
   },
   "outputs": [
    {
     "name": "stdout",
     "output_type": "stream",
     "text": [
      "(16500, 1)\n",
      "(300, 50) (5, 300)\n",
      "0.0\n"
     ]
    }
   ],
   "source": [
    "test = mat_to_vec([X_1, X_2])\n",
    "print(test.shape)\n",
    "print(X_1.shape, X_2.shape)\n",
    "mat = vec_to_mat(test, [X_1.shape, X_2.shape])\n",
    "print(np.max(abs(mat[0] - X_1)))"
   ]
  },
  {
   "cell_type": "code",
   "execution_count": 452,
   "metadata": {
    "collapsed": true
   },
   "outputs": [],
   "source": [
    "# testing of PCG\n",
    "l = 3\n",
    "dk = np.array([32,16, 8])\n",
    "dx = np.sum(dk)\n",
    "\n",
    "# generate weights \n",
    "N_0 = np.random.randn(dk[0], dx)\n",
    "W_1 = np.random.randn(dk[1], dk[0])\n",
    "W_2 = np.random.randn(dk[2], dk[1])\n",
    "W = [W_1, W_2]\n",
    "F = [sigmoid_gradient, tanh_gradient]\n",
    "F_forward = [sigmoid, tanh]"
   ]
  },
  {
   "cell_type": "code",
   "execution_count": 453,
   "metadata": {
    "collapsed": false
   },
   "outputs": [],
   "source": [
    "N = forward_params(W, N_0, F_forward)\n",
    "NN = [n.T for n in N][:-1]\n",
    "A = [W_2, np.eye(dk[l-1])]"
   ]
  },
  {
   "cell_type": "code",
   "execution_count": 454,
   "metadata": {
    "collapsed": false
   },
   "outputs": [
    {
     "name": "stdout",
     "output_type": "stream",
     "text": [
      "(448, 640)\n"
     ]
    }
   ],
   "source": [
    "R,S = QR_of_J(NN,A)\n",
    "SS = append_zero_rows(S)\n",
    "print(shape_J(NN, A))"
   ]
  },
  {
   "cell_type": "code",
   "execution_count": 455,
   "metadata": {
    "collapsed": false
   },
   "outputs": [
    {
     "name": "stdout",
     "output_type": "stream",
     "text": [
      "(56, 32) (56, 16)\n",
      "(8, 16) (8, 8)\n"
     ]
    }
   ],
   "source": [
    "print(NN[0].shape, NN[1].shape)\n",
    "print(A[0].shape, A[1].shape)"
   ]
  },
  {
   "cell_type": "code",
   "execution_count": 456,
   "metadata": {
    "collapsed": false
   },
   "outputs": [],
   "source": [
    "m = W_1.shape[0]*W_1.shape[1] + W_2.shape[0]*W_2.shape[1]\n",
    "b = np.random.randn(m,1)\n",
    "x = np.zeros((m,1))"
   ]
  },
  {
   "cell_type": "code",
   "execution_count": 458,
   "metadata": {
    "collapsed": true
   },
   "outputs": [],
   "source": [
    "import time"
   ]
  },
  {
   "cell_type": "code",
   "execution_count": 460,
   "metadata": {
    "collapsed": false
   },
   "outputs": [
    {
     "name": "stdout",
     "output_type": "stream",
     "text": [
      "with preconditioning, iterations = 13, running time = 0.6846180000000004\n",
      "with no preconditioning, iterations = 953, running time = 577.494155\n"
     ]
    }
   ],
   "source": [
    "lamb = 0.001\n",
    "start = time.clock()\n",
    "sol, i = pcg_i(NN, A, lamb, R, SS, b, x)\n",
    "end = time.clock() - start\n",
    "start = time.clock\n",
    "print('with preconditioning, iterations = %d, running time = %s'%(i, end))\n",
    "sol2, i2 = pcg_i(NN, A, lamb, R, SS, b, x, is_p = False)\n",
    "end = time.clock() - start\n",
    "print('with no preconditioning, iterations = %d, running time = %s'%(i2, end))"
   ]
  },
  {
   "cell_type": "code",
   "execution_count": null,
   "metadata": {
    "collapsed": true
   },
   "outputs": [],
   "source": []
  }
 ],
 "metadata": {
  "kernelspec": {
   "display_name": "Python 3",
   "language": "python",
   "name": "python3"
  },
  "language_info": {
   "codemirror_mode": {
    "name": "ipython",
    "version": 3
   },
   "file_extension": ".py",
   "mimetype": "text/x-python",
   "name": "python",
   "nbconvert_exporter": "python",
   "pygments_lexer": "ipython3",
   "version": "3.5.1"
  }
 },
 "nbformat": 4,
 "nbformat_minor": 0
}
