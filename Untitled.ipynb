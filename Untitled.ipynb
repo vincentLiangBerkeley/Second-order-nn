{
 "cells": [
  {
   "cell_type": "code",
   "execution_count": 1,
   "metadata": {
    "collapsed": false
   },
   "outputs": [],
   "source": [
    "import numpy as np\n",
    "import scipy.linalg as sp\n",
    "import matplotlib.pyplot as plt\n",
    "%matplotlib inline"
   ]
  },
  {
   "cell_type": "code",
   "execution_count": 2,
   "metadata": {
    "collapsed": false
   },
   "outputs": [],
   "source": [
    "# J = [ NN[l-1] kron A[l-1]  ...  NN[k] kron A[k]  ...  NN[0] kron A[0] ]\n",
    "# Ns, As are lists containing the matrices N_i and A_i\n",
    "# QR_of_J finds the QR factorization of the J matrix\n",
    "# TODO: pivoting\n",
    "def QR_of_J(NN, A):\n",
    "    \n",
    "    currNN = list(NN)\n",
    "    l = len(currNN) \n",
    "    \n",
    "    R = [[None for j in range(l)] for i in range(l)] # list containing R factors of NN\n",
    "    Q = [None for i in range(l)] # list containing Q factors of NN\n",
    "    S = [[None for j in range(l)] for i in range(l)] # list containing R factors of A\n",
    "    U = [None for i in range(l)] # list containing Q factors of A\n",
    "    \n",
    "    for i in range(len(NN)-1,-1,-1):\n",
    "        n = currNN[i].shape[1]\n",
    "        q,r = np.linalg.qr(currNN[i], mode='complete')\n",
    "        Q[i] = q\n",
    "        R[i][i] = r[:n,:]\n",
    "        u,s = np.linalg.qr(A[i], mode='complete')\n",
    "        U[i] = u\n",
    "        S[i][i] = s\n",
    "        for j in range(i-1,-1,-1):\n",
    "            temp = np.dot(q.T,currNN[j])\n",
    "            R[i][j] = temp[:n,:]\n",
    "            currNN[j] = temp[n:,:]\n",
    "            temp2 = np.dot(u.T,A[j])\n",
    "            S[i][j] = temp2\n",
    "    \n",
    "    return [R,S]\n",
    "\n",
    "# assemble full R matrix, for testing\n",
    "def assemble_R(R, S):\n",
    "    l = len(R)\n",
    "    # assemble right most block column\n",
    "    currCol = np.kron(R[l-1][0], S[l-1][0])\n",
    "    for i in range(l-2,-1,-1):\n",
    "        currCol = np.vstack((currCol, np.kron(R[i][0], S[i][0])))\n",
    "    m = currCol.shape[0]\n",
    "    RR = np.copy(currCol)\n",
    "    # assemble other block columns, proceeding from right to left\n",
    "    for j in range(1,l,1):\n",
    "        currCol = np.kron(R[l-1][j], S[l-1][j])\n",
    "        for i in range(l-2,j-1,-1):\n",
    "            currCol = np.vstack((currCol, np.kron(R[i][j], S[i][j])))\n",
    "        currCol = np.vstack((currCol, np.zeros((m-currCol.shape[0], currCol.shape[1]))))\n",
    "        RR = np.hstack((currCol, RR))\n",
    "    return RR\n",
    "\n",
    "# assemble full J matrix, for testing\n",
    "def assemble_J(NN, A):\n",
    "    J = np.kron(NN[l-1], A[l-1])\n",
    "    for i in range(l-2,-1,-1):\n",
    "        J = np.hstack((J, np.kron(NN[i], A[i])))\n",
    "    return J"
   ]
  },
  {
   "cell_type": "code",
   "execution_count": 32,
   "metadata": {
    "collapsed": false
   },
   "outputs": [
    {
     "name": "stdout",
     "output_type": "stream",
     "text": [
      "1.7763568394e-15\n"
     ]
    }
   ],
   "source": [
    "# testing QR_of_J function\n",
    "l = 2\n",
    "dk = 2 \n",
    "dx = dk*l\n",
    "NN = [np.random.randn(dx,dk) for i in range(l)]\n",
    "A = [np.random.randn(dk,dk) for i in range(l)]\n",
    "\n",
    "R,S = QR_of_J(NN,A)\n",
    "RR = assemble_R(R,S)\n",
    "J = assemble_J(NN,A)\n",
    "\n",
    "u,s,v = np.linalg.svd(RR)\n",
    "u,s2,v = np.linalg.svd(J)\n",
    "print(np.max(np.abs(s-s2)))"
   ]
  },
  {
   "cell_type": "code",
   "execution_count": 4,
   "metadata": {
    "collapsed": false
   },
   "outputs": [
    {
     "name": "stdout",
     "output_type": "stream",
     "text": [
      "6.2172489379e-15\n"
     ]
    }
   ],
   "source": [
    "# testing QR_of_J function on non-square matrices\n",
    "l = 2\n",
    "dk = 2\n",
    "dx = dk*l\n",
    "NN = [np.random.randn(dx,dk) for i in range(l)]\n",
    "A = [np.random.randn(dk,3), np.random.randn(dk,4)]\n",
    "\n",
    "R,S = QR_of_J(NN,A)\n",
    "RR = assemble_R(R,S)\n",
    "J = assemble_J(NN,A)\n",
    "\n",
    "u,s,v = np.linalg.svd(RR)\n",
    "u,s2,v = np.linalg.svd(J)\n",
    "print(np.max(np.abs(s-s2)))"
   ]
  },
  {
   "cell_type": "code",
   "execution_count": 5,
   "metadata": {
    "collapsed": true
   },
   "outputs": [],
   "source": [
    "# append zero rows to blocks of S that are short fat matrices\n",
    "def append_zero_rows(S):\n",
    "    \n",
    "    l = len(S)\n",
    "    SS = [[None for j in range(l)] for i in range(l)] # make a new S, don't modify the original within the function\n",
    "    \n",
    "    for i in range(l):\n",
    "        m,n = S[i][i].shape\n",
    "        if m < n: # diagonal block is short fat, append zeros to this and all row blocks\n",
    "            for j in range(i+1):\n",
    "                SS[i][j] = np.vstack((S[i][j], np.zeros((n-m, S[i][j].shape[1]))))\n",
    "        else:\n",
    "            for j in range(i+1):\n",
    "                SS[i][j] = S[i][j]\n",
    "    \n",
    "    return SS\n",
    "\n",
    "# assemble preconditioner R as a full matrix, a square matrix with diagonal abs thresholding by lambda > 0\n",
    "# TODO: handle case when blocks of R, S are tall skinny, for now we assume all blocks are square or short fat\n",
    "def assemble_R_precon(R, S, lamb):\n",
    "    \n",
    "    # add appropriate zeros rows\n",
    "    SS = append_zero_rows(S)\n",
    "    \n",
    "    # assemble R\n",
    "    R_thr = assemble_R(R,SS)\n",
    "    \n",
    "    # apply thresholding\n",
    "    for i in range(R_thr.shape[0]):\n",
    "        R_thr[i][i] = np.max((R_thr[i][i], lamb)) if R_thr[i][i] >= 0 else np.min((R_thr[i][i], -lamb))\n",
    "        \n",
    "    return R_thr\n",
    "        "
   ]
  },
  {
   "cell_type": "code",
   "execution_count": 6,
   "metadata": {
    "collapsed": false
   },
   "outputs": [
    {
     "name": "stdout",
     "output_type": "stream",
     "text": [
      "[[array([[ 1.28780549,  0.39964264, -1.0823633 ],\n",
      "       [ 0.        ,  1.32760291,  0.07919971]]), None], [array([[-0.45926653, -1.38283217,  0.31200817],\n",
      "       [ 1.2031281 , -0.10009454, -1.03943918]]), array([[ 1.07722532,  0.96028931, -0.66535499,  0.70332486],\n",
      "       [ 0.        ,  0.15995637, -0.70685406, -1.55757488]])]]\n",
      "[[array([[ 1.28780549,  0.39964264, -1.0823633 ],\n",
      "       [ 0.        ,  1.32760291,  0.07919971],\n",
      "       [ 0.        ,  0.        ,  0.        ]]), None], [array([[-0.45926653, -1.38283217,  0.31200817],\n",
      "       [ 1.2031281 , -0.10009454, -1.03943918],\n",
      "       [ 0.        ,  0.        ,  0.        ],\n",
      "       [ 0.        ,  0.        ,  0.        ]]), array([[ 1.07722532,  0.96028931, -0.66535499,  0.70332486],\n",
      "       [ 0.        ,  0.15995637, -0.70685406, -1.55757488],\n",
      "       [ 0.        ,  0.        ,  0.        ,  0.        ],\n",
      "       [ 0.        ,  0.        ,  0.        ,  0.        ]])]]\n",
      "[[-10.  -3.   1.  -2.   0.   0.  -1.   0.  -1.  -2.   0.  -1.  -2.   0.]\n",
      " [ -0. -10.   1.   3.   0.   0.  -1.  -1.   1.  -1.  -2.   1.  -1.  -2.]\n",
      " [ -0.  -0.  10.  -0.   0.   0.   0.   0.   0.   0.   0.   0.   0.   0.]\n",
      " [ -0.  -0.  -0.  10.   0.   0.   0.   0.   0.   0.   0.   0.   0.   0.]\n",
      " [  0.   0.  -0.   0. -10.  -2.   0.  -1.  -1.  -1.   0.   0.   0.  -1.]\n",
      " [  0.   0.  -0.  -0.  -0. -10.   0.   2.   0.  -1.  -1.  -1.   0.   0.]\n",
      " [  0.   0.   0.   0.  -0.  -0.  10.  -0.   0.   0.   0.  -0.  -0.  -0.]\n",
      " [  0.   0.   0.   0.  -0.  -0.  -0.  10.   0.   0.   0.  -0.  -0.  -0.]\n",
      " [  0.   0.   0.   0.   0.   0.   0.   0.  10.   0.  -1.   0.   0.  -1.]\n",
      " [  0.   0.   0.   0.   0.   0.   0.   0.   0.  10.   0.   0.   0.   0.]\n",
      " [  0.   0.   0.   0.   0.   0.   0.   0.   0.   0.  10.   0.   0.   0.]\n",
      " [  0.   0.   0.   0.   0.   0.   0.   0.   0.   0.  -0.  10.   0.  -1.]\n",
      " [  0.   0.   0.   0.   0.   0.   0.   0.   0.   0.   0.   0.  10.   0.]\n",
      " [  0.   0.   0.   0.   0.   0.   0.   0.   0.   0.   0.   0.   0.  10.]]\n"
     ]
    }
   ],
   "source": [
    "# testing append_zero_rows function and assemble_R_precon function\n",
    "print(S)\n",
    "SS = append_zero_rows(S)\n",
    "print(SS)\n",
    "\n",
    "R_precon = assemble_R_precon(R,S,10)\n",
    "print(np.floor(R_precon))"
   ]
  },
  {
   "cell_type": "code",
   "execution_count": 166,
   "metadata": {
    "collapsed": false
   },
   "outputs": [],
   "source": [
    "# computes (J^T J + lambda I)x\n",
    "def multiply_J(J, lamb, x):\n",
    "    return np.dot(J.T, np.dot(J,x)) + lamb*x\n",
    "    \n",
    "# solves (R^T R)x = b for x, where R is upper triangular\n",
    "def backsolve(R, b):\n",
    "    #return np.linalg.solve(R, np.linalg.solve(R.T, b))\n",
    "    return sp.solve_triangular(R, sp.solve_triangular(R, b, trans=1))\n",
    "\n",
    "# simple implementation of cg with preconditioning, specific to the case of solving\n",
    "# A = J^T J + lambda I\n",
    "# with preconditioner R such that R^T R approximates A\n",
    "def pcg(J, lamb, R, b, x0, tol = 1.0e-10, max_it = 5000):\n",
    "\n",
    "    # initializations    \n",
    "    x = x0\n",
    "    r0 = b - multiply_J(J, lamb, x)\n",
    "    rtilde0 = backsolve(R,r0)\n",
    "    p = rtilde0\n",
    "\n",
    "    # iterations    \n",
    "    for i in range(max_it):\n",
    "        a = float(np.dot(r0.T, rtilde0)/np.dot(p.T, multiply_J(J, lamb, p)))\n",
    "        x = x + p*a\n",
    "        r = r0 - a*multiply_J(J, lamb, p)\n",
    "\n",
    "        if np.linalg.norm(r) < tol:\n",
    "            return x, i\n",
    "        \n",
    "        rtilde = backsolve(R,r)\n",
    "        b = float(np.dot(r.T, rtilde)/np.dot(r0.T, rtilde0))\n",
    "        p = rtilde + b * p\n",
    "        r0 = r\n",
    "        rtilde0 = rtilde\n",
    "    return x, i"
   ]
  },
  {
   "cell_type": "code",
   "execution_count": 167,
   "metadata": {
    "collapsed": false
   },
   "outputs": [
    {
     "name": "stdout",
     "output_type": "stream",
     "text": [
      "with preconditioning, iterations =  14\n",
      "with no preconditioning, iterations =  159\n"
     ]
    }
   ],
   "source": [
    "# test pcg\n",
    "J = np.random.randn(100,100)\n",
    "b = np.random.randn(100,1)\n",
    "x = np.random.randn(100,1)\n",
    "q,r = np.linalg.qr(J)\n",
    "\n",
    "sol1,i1 = pcg(J, 0.1, r, b, x)\n",
    "print('with preconditioning, iterations = ',i1)\n",
    "sol2,i2 = pcg(J, 0.1, np.eye(100), b, x)\n",
    "print('with no preconditioning, iterations = ',i2)"
   ]
  },
  {
   "cell_type": "code",
   "execution_count": 9,
   "metadata": {
    "collapsed": false
   },
   "outputs": [
    {
     "name": "stdout",
     "output_type": "stream",
     "text": [
      "(800, 2600)\n"
     ]
    }
   ],
   "source": [
    "# testing the effectiveness of the preconditioner, just for matrices, without reference to neural nets\n",
    "l = 3\n",
    "dk = np.array([40, 30, 10])\n",
    "dx = np.sum(dk)\n",
    "NN = [np.random.randn(dx,dk[i]) for i in range(l)]\n",
    "A = [np.random.randn(dk[l-1],dk[i]) for i in range(l)]\n",
    "\n",
    "R,S = QR_of_J(NN,A)\n",
    "J = assemble_J(NN,A)\n",
    "\n",
    "n = J.shape[1]\n",
    "b = np.random.randn(n,1)\n",
    "x = np.zeros((n,1))\n",
    "\n",
    "print(J.shape)"
   ]
  },
  {
   "cell_type": "code",
   "execution_count": 10,
   "metadata": {
    "collapsed": false
   },
   "outputs": [
    {
     "name": "stdout",
     "output_type": "stream",
     "text": [
      "max singular value =  131.065972254\n",
      "min non-zero singuar value =  0.11265560191\n"
     ]
    },
    {
     "data": {
      "text/plain": [
       "[<matplotlib.lines.Line2D at 0x7f327506feb8>]"
      ]
     },
     "execution_count": 10,
     "metadata": {},
     "output_type": "execute_result"
    },
    {
     "data": {
      "image/png": "[encoded data removed]",
      "text/plain": [
       "<matplotlib.figure.Figure at 0x7f32777ef5f8>"
      ]
     },
     "metadata": {},
     "output_type": "display_data"
    }
   ],
   "source": [
    "u,s,v = np.linalg.svd(J)\n",
    "print('max singular value = ',max(s))\n",
    "print('min non-zero singuar value = ',min(s))\n",
    "\n",
    "plt.plot(s)"
   ]
  },
  {
   "cell_type": "code",
   "execution_count": 241,
   "metadata": {
    "collapsed": false
   },
   "outputs": [
    {
     "name": "stdout",
     "output_type": "stream",
     "text": [
      "with no preconditioning, iterations =  2414\n",
      "wth preconditioning, iterations =  125\n"
     ]
    }
   ],
   "source": [
    "lamb = 0.1\n",
    "\n",
    "R_precon = assemble_R_precon(R,S,np.sqrt(lamb))\n",
    "sol, i = pcg(J, lamb, np.eye(n), b, x)\n",
    "print('with no preconditioning, iterations = ',i)\n",
    "sol, i = pcg(J, lamb, R_precon, b, x)\n",
    "print('wth preconditioning, iterations = ',i)"
   ]
  },
  {
   "cell_type": "code",
   "execution_count": 242,
   "metadata": {
    "collapsed": false
   },
   "outputs": [
    {
     "name": "stdout",
     "output_type": "stream",
     "text": [
      "with no preconditioning, iterations =  1452\n",
      "wth preconditioning, iterations =  170\n"
     ]
    }
   ],
   "source": [
    "lamb = 1\n",
    "\n",
    "R_precon = assemble_R_precon(R,S,np.sqrt(lamb))\n",
    "sol, i = pcg(J, lamb, np.eye(n), b, x)\n",
    "print('with no preconditioning, iterations = ',i)\n",
    "sol, i = pcg(J, lamb, R_precon, b, x)\n",
    "print('wth preconditioning, iterations = ',i)"
   ]
  },
  {
   "cell_type": "code",
   "execution_count": 243,
   "metadata": {
    "collapsed": false
   },
   "outputs": [
    {
     "name": "stdout",
     "output_type": "stream",
     "text": [
      "with no preconditioning, iterations =  493\n",
      "wth preconditioning, iterations =  312\n"
     ]
    }
   ],
   "source": [
    "lamb = 10\n",
    "\n",
    "R_precon = assemble_R_precon(R,S,np.sqrt(lamb))\n",
    "sol, i = pcg(J, lamb, np.eye(n), b, x)\n",
    "print('with no preconditioning, iterations = ',i)\n",
    "sol, i = pcg(J, lamb, R_precon, b, x)\n",
    "print('wth preconditioning, iterations = ',i)"
   ]
  },
  {
   "cell_type": "code",
   "execution_count": 244,
   "metadata": {
    "collapsed": false
   },
   "outputs": [
    {
     "name": "stdout",
     "output_type": "stream",
     "text": [
      "with no preconditioning, iterations =  159\n",
      "wth preconditioning, iterations =  385\n"
     ]
    }
   ],
   "source": [
    "lamb = 100\n",
    "\n",
    "R_precon = assemble_R_precon(R,S,np.sqrt(lamb))\n",
    "sol, i = pcg(J, lamb, np.eye(n), b, x)\n",
    "print('with no preconditioning, iterations = ',i)\n",
    "sol, i = pcg(J, lamb, R_precon, b, x)\n",
    "print('wth preconditioning, iterations = ',i)"
   ]
  },
  {
   "cell_type": "code",
   "execution_count": 248,
   "metadata": {
    "collapsed": false
   },
   "outputs": [],
   "source": [
    "# note that multiply_J_i and multiply_Jtr_i will be obsolete after implementation of nn since this will \n",
    "# become back propagation\n",
    "\n",
    "# multiply y = J x without explicitly forming J, the implicit version of multiply_J\n",
    "# J = [ NN[l-1] kron A[l-1]  ...  NN[k] kron A[k]  ...  NN[0] kron A[0] ]\n",
    "# returns y = J x\n",
    "def multiply_J_i(NN, A, x):\n",
    "    \n",
    "    l = len(NN)\n",
    "    i_start = 0\n",
    "    M = np.kron(NN[l-1], A[l-1])\n",
    "    m,n = M.shape\n",
    "    y = np.dot(M, x[i_start : i_start+n])\n",
    "    i_start += n\n",
    "    for i in range(l-2,-1,-1):\n",
    "        M = np.kron(NN[i], A[i])\n",
    "        m,n = M.shape\n",
    "        y = y + np.dot(M, x[i_start : i_start+n])\n",
    "        i_start += n\n",
    "    return y\n",
    "\n",
    "# returns y = J^T x\n",
    "def multiply_Jtr_i(NN, A, x):\n",
    "    \n",
    "    l = len(NN)\n",
    "    y = np.dot(np.kron(NN[l-1].T, A[l-1].T), x)\n",
    "    for i in range(l-2,-1,-1):\n",
    "        y = np.vstack((y, np.dot(np.kron(NN[i].T, A[i].T), x)))\n",
    "    return y\n",
    "    \n",
    "# threshold the abs value of the diagonal of the matrix A at lamb\n",
    "# function modifies A in place\n",
    "def threshold_lamb(A, lamb):\n",
    "    for i in range(A.shape[0]):\n",
    "        A[i,i] = np.max((A[i][i], lamb)) if A[i][i] >= 0 else np.min((A[i][i], -lamb))\n",
    "\n",
    "# backsolve R x = b for x, without explicitly forming R\n",
    "# where R,S are kron blocks of R\n",
    "def backsolve_R_i(R, S, lamb, b):\n",
    "    \n",
    "    L = len(R)\n",
    "    i_o_stop = len(b)\n",
    "    x = np.zeros_like(b)\n",
    "    \n",
    "    # block backsolve\n",
    "    for i in range(L):\n",
    "        Ai = np.kron(R[i][i], S[i][i])\n",
    "        threshold_lamb(Ai,lamb)\n",
    "        m,n = Ai.shape\n",
    "        bi = b[i_o_stop-n : i_o_stop]\n",
    "        i_i_start = i_o_stop\n",
    "        for j in range(i-1,-1,-1):\n",
    "            Aij = np.kron(R[i][j], S[i][j])\n",
    "            k,l = Aij.shape\n",
    "            bi = bi - np.dot(Aij, x[i_i_start : i_i_start+l])\n",
    "            i_i_start += l\n",
    "        x[i_o_stop-n : i_o_stop] = sp.solve_triangular(Ai,bi)\n",
    "        i_o_stop -= n\n",
    "    \n",
    "    return x\n",
    "    \n",
    "# backsolve R^T x = b for x, without explicitly forming R\n",
    "# where R,S are kron blocks of R\n",
    "def backsolve_Rtr_i(R, S, lamb, b):\n",
    "    \n",
    "    L = len(R)\n",
    "    i_o_start = 0\n",
    "    x = np.zeros_like(b)\n",
    "    \n",
    "    # block forwardsolve\n",
    "    for i in range(L-1,-1,-1):\n",
    "        Ai = np.kron(R[i][i].T, S[i][i].T)\n",
    "        threshold_lamb(Ai, lamb)\n",
    "        m,n = Ai.shape\n",
    "        bi = b[i_o_start : i_o_start+n]\n",
    "        i_i_stop = i_o_start\n",
    "        for j in range(i+1,L,1):\n",
    "            Aij = np.kron(R[j][i].T, S[j][i].T)\n",
    "            k,l = Aij.shape\n",
    "            bi = bi - np.dot(Aij, x[i_i_stop-l : i_i_stop])\n",
    "            i_i_stop -= l\n",
    "        x[i_o_start : i_o_start+n] = sp.solve_triangular(Ai,bi,lower=True)\n",
    "        i_o_start += n\n",
    "        \n",
    "    return x"
   ]
  },
  {
   "cell_type": "code",
   "execution_count": 249,
   "metadata": {
    "collapsed": false
   },
   "outputs": [
    {
     "name": "stdout",
     "output_type": "stream",
     "text": [
      "2.77555756156e-17\n",
      "2.77555756156e-17\n",
      "1.7763568394e-15\n",
      "8.881784197e-16\n"
     ]
    }
   ],
   "source": [
    "# testing backsolve_R_i, backsolve_Rtr_i functions on non-square matrices\n",
    "l = 2\n",
    "dk = 2\n",
    "dx = dk*l\n",
    "NN = [np.random.randn(dx,dk) for i in range(l)]\n",
    "A = [np.random.randn(dk,3), np.random.randn(dk,4)]\n",
    "lamb = 10\n",
    "\n",
    "R,S = QR_of_J(NN,A)\n",
    "SS = append_zero_rows(S)\n",
    "\n",
    "R_precon = assemble_R_precon(R,S,lamb)\n",
    "\n",
    "b = np.random.randn(R_precon.shape[0],1)\n",
    "\n",
    "sol = backsolve_R_i(R,SS,lamb,b)\n",
    "sol_exact = sp.solve_triangular(R_precon,b)\n",
    "\n",
    "print(np.max(np.abs(sol-sol_exact)))\n",
    "\n",
    "sol2 = backsolve_Rtr_i(R,SS,10,b)\n",
    "sol2_exact = sp.solve_triangular(R_precon.T,b,lower=True)\n",
    "\n",
    "print(np.max(np.abs(sol2-sol2_exact)))\n",
    "\n",
    "# testing multiply_J_i, multiply_Jtr_i\n",
    "J = assemble_J(NN,A)\n",
    "v = np.random.randn(J.shape[1],1)\n",
    "w = np.random.randn(J.shape[0],1)\n",
    "\n",
    "sol = multiply_J_i(NN,A,v)\n",
    "sol_exact = np.dot(J,v)\n",
    "\n",
    "print(np.max(np.abs(sol-sol_exact)))\n",
    "\n",
    "sol2 = multiply_Jtr_i(NN,A,w)\n",
    "sol2_exact = np.dot(J.T,w)\n",
    "\n",
    "print(np.max(np.abs(sol2-sol2_exact)))"
   ]
  },
  {
   "cell_type": "code",
   "execution_count": 270,
   "metadata": {
    "collapsed": true
   },
   "outputs": [],
   "source": [
    "# computes (J^T J + lambda I)x\n",
    "def multiply_A_i(NN, A, lamb, x):\n",
    "    return multiply_Jtr_i(NN, A, multiply_J_i(NN, A, x)) + lamb*x\n",
    "    \n",
    "# solves (R^T R)x = b for x, where R is upper triangular\n",
    "def backsolve_i(R, S, lamb, b):\n",
    "    return backsolve_R_i(R, S, lamb, backsolve_Rtr_i(R, S, lamb, b))\n",
    "\n",
    "# simple implementation of cg with preconditioning, specific to the case of solving\n",
    "# A = J^T J + lambda I\n",
    "# with preconditioner R such that R^T R approximates A\n",
    "def pcg_i(NN, A, lamb, R, S, b, x0, tol = 1.0e-1, max_it = 5000, is_p = True):\n",
    "\n",
    "    # initializations    \n",
    "    x = x0\n",
    "    r0 = b - multiply_A_i(NN, A, lamb, x)\n",
    "    rtilde0 = backsolve_i(R, S, np.sqrt(lamb),r0) if is_p else r0\n",
    "    p = rtilde0\n",
    "\n",
    "    # iterations    \n",
    "    for i in range(max_it):\n",
    "        v = multiply_A_i(NN, A, lamb, p)\n",
    "        a = float(np.dot(r0.T, rtilde0)/np.dot(p.T, v))\n",
    "        x = x + p*a\n",
    "        r = r0 - a*v\n",
    "\n",
    "        if np.linalg.norm(r) < tol:\n",
    "            return x, i\n",
    "        \n",
    "        rtilde = backsolve_i(R, S, np.sqrt(lamb), r) if is_p else r\n",
    "        b = float(np.dot(r.T, rtilde)/np.dot(r0.T, rtilde0))\n",
    "        p = rtilde + b * p\n",
    "        r0 = r\n",
    "        rtilde0 = rtilde\n",
    "    return x, i"
   ]
  },
  {
   "cell_type": "code",
   "execution_count": 271,
   "metadata": {
    "collapsed": true
   },
   "outputs": [],
   "source": [
    "# return shape of J without forming it\n",
    "def shape_J(NN, A):\n",
    "    m = NN[0].shape[0]*A[0].shape[0]\n",
    "    n = 0\n",
    "    for i in range(len(NN)):\n",
    "        n += NN[i].shape[1]*A[i].shape[1]\n",
    "    return (m,n)"
   ]
  },
  {
   "cell_type": "code",
   "execution_count": 272,
   "metadata": {
    "collapsed": false
   },
   "outputs": [
    {
     "name": "stdout",
     "output_type": "stream",
     "text": [
      "(1800, 15000)\n"
     ]
    }
   ],
   "source": [
    "# testing the effectiveness of the preconditioner, just for matrices, without reference to neural nets\n",
    "l = 3\n",
    "dk = np.array([100, 70, 10])\n",
    "dx = np.sum(dk)\n",
    "NN = [np.random.randn(dx,dk[i]) for i in range(l)]\n",
    "A = [np.random.randn(dk[l-1],dk[i]) for i in range(l)]\n",
    "\n",
    "R,S = QR_of_J(NN,A)\n",
    "SS = append_zero_rows(S)\n",
    "\n",
    "n = shape_J(NN,A)[1]\n",
    "b = np.random.randn(n,1)\n",
    "x = np.zeros((n,1))\n",
    "\n",
    "print(shape_J(NN,A))"
   ]
  },
  {
   "cell_type": "code",
   "execution_count": 273,
   "metadata": {
    "collapsed": false
   },
   "outputs": [
    {
     "name": "stdout",
     "output_type": "stream",
     "text": [
      "with preconditioning, iterations =  310\n",
      "with no preconditioning, iterations =  313\n"
     ]
    }
   ],
   "source": [
    "lamb = 10\n",
    "\n",
    "sol, i = pcg_i(NN, A, lamb, R, SS, b, x)\n",
    "print('with preconditioning, iterations = ',i)\n",
    "sol2, i2 = pcg_i(NN, A, lamb, R, SS, b, x, is_p = False)\n",
    "print('with no preconditioning, iterations = ',i2)"
   ]
  },
  {
   "cell_type": "code",
   "execution_count": 274,
   "metadata": {
    "collapsed": false
   },
   "outputs": [
    {
     "name": "stdout",
     "output_type": "stream",
     "text": [
      "with preconditioning, iterations =  147\n",
      "with no preconditioning, iterations =  1017\n"
     ]
    }
   ],
   "source": [
    "lamb = 1\n",
    "\n",
    "sol, i = pcg_i(NN, A, lamb, R, SS, b, x)\n",
    "print('with preconditioning, iterations = ',i)\n",
    "sol2, i2 = pcg_i(NN, A, lamb, R, SS, b, x, is_p = False)\n",
    "print('with no preconditioning, iterations = ',i2)"
   ]
  },
  {
   "cell_type": "code",
   "execution_count": 275,
   "metadata": {
    "collapsed": false
   },
   "outputs": [
    {
     "name": "stdout",
     "output_type": "stream",
     "text": [
      "with preconditioning, iterations =  78\n",
      "with no preconditioning, iterations =  3031\n"
     ]
    }
   ],
   "source": [
    "lamb = 0.1\n",
    "\n",
    "sol, i = pcg_i(NN, A, lamb, R, SS, b, x)\n",
    "print('with preconditioning, iterations = ',i)\n",
    "sol2, i2 = pcg_i(NN, A, lamb, R, SS, b, x, is_p = False)\n",
    "print('with no preconditioning, iterations = ',i2)"
   ]
  },
  {
   "cell_type": "code",
   "execution_count": 276,
   "metadata": {
    "collapsed": false
   },
   "outputs": [
    {
     "name": "stdout",
     "output_type": "stream",
     "text": [
      "(3100, 50100)\n"
     ]
    }
   ],
   "source": [
    "# testing the effectiveness of the preconditioner, just for matrices, without reference to neural nets\n",
    "l = 3\n",
    "dk = np.array([200, 100, 10])\n",
    "dx = np.sum(dk)\n",
    "NN = [np.random.randn(dx,dk[i]) for i in range(l)]\n",
    "A = [np.random.randn(dk[l-1],dk[i]) for i in range(l)]\n",
    "\n",
    "R,S = QR_of_J(NN,A)\n",
    "SS = append_zero_rows(S)\n",
    "\n",
    "n = shape_J(NN,A)[1]\n",
    "b = np.random.randn(n,1)\n",
    "x = np.zeros((n,1))\n",
    "\n",
    "print(shape_J(NN,A))"
   ]
  },
  {
   "cell_type": "code",
   "execution_count": 277,
   "metadata": {
    "collapsed": false
   },
   "outputs": [
    {
     "ename": "MemoryError",
     "evalue": "",
     "output_type": "error",
     "traceback": [
      "\u001b[1;31m---------------------------------------------------------------------------\u001b[0m",
      "\u001b[1;31mMemoryError\u001b[0m                               Traceback (most recent call last)",
      "\u001b[1;32m<ipython-input-277-f3be5774779e>\u001b[0m in \u001b[0;36m<module>\u001b[1;34m()\u001b[0m\n\u001b[0;32m      1\u001b[0m \u001b[0mlamb\u001b[0m \u001b[1;33m=\u001b[0m \u001b[1;36m10\u001b[0m\u001b[1;33m\u001b[0m\u001b[0m\n\u001b[0;32m      2\u001b[0m \u001b[1;33m\u001b[0m\u001b[0m\n\u001b[1;32m----> 3\u001b[1;33m \u001b[0msol\u001b[0m\u001b[1;33m,\u001b[0m \u001b[0mi\u001b[0m \u001b[1;33m=\u001b[0m \u001b[0mpcg_i\u001b[0m\u001b[1;33m(\u001b[0m\u001b[0mNN\u001b[0m\u001b[1;33m,\u001b[0m \u001b[0mA\u001b[0m\u001b[1;33m,\u001b[0m \u001b[0mlamb\u001b[0m\u001b[1;33m,\u001b[0m \u001b[0mR\u001b[0m\u001b[1;33m,\u001b[0m \u001b[0mSS\u001b[0m\u001b[1;33m,\u001b[0m \u001b[0mb\u001b[0m\u001b[1;33m,\u001b[0m \u001b[0mx\u001b[0m\u001b[1;33m)\u001b[0m\u001b[1;33m\u001b[0m\u001b[0m\n\u001b[0m\u001b[0;32m      4\u001b[0m \u001b[0mprint\u001b[0m\u001b[1;33m(\u001b[0m\u001b[1;34m'with preconditioning, iterations = '\u001b[0m\u001b[1;33m,\u001b[0m\u001b[0mi\u001b[0m\u001b[1;33m)\u001b[0m\u001b[1;33m\u001b[0m\u001b[0m\n\u001b[0;32m      5\u001b[0m \u001b[0msol2\u001b[0m\u001b[1;33m,\u001b[0m \u001b[0mi2\u001b[0m \u001b[1;33m=\u001b[0m \u001b[0mpcg_i\u001b[0m\u001b[1;33m(\u001b[0m\u001b[0mNN\u001b[0m\u001b[1;33m,\u001b[0m \u001b[0mA\u001b[0m\u001b[1;33m,\u001b[0m \u001b[0mlamb\u001b[0m\u001b[1;33m,\u001b[0m \u001b[0mR\u001b[0m\u001b[1;33m,\u001b[0m \u001b[0mSS\u001b[0m\u001b[1;33m,\u001b[0m \u001b[0mb\u001b[0m\u001b[1;33m,\u001b[0m \u001b[0mx\u001b[0m\u001b[1;33m,\u001b[0m \u001b[0mis_p\u001b[0m \u001b[1;33m=\u001b[0m \u001b[1;32mFalse\u001b[0m\u001b[1;33m)\u001b[0m\u001b[1;33m\u001b[0m\u001b[0m\n",
      "\u001b[1;32m<ipython-input-270-b645af0c4cd7>\u001b[0m in \u001b[0;36mpcg_i\u001b[1;34m(NN, A, lamb, R, S, b, x0, tol, max_it, is_p)\u001b[0m\n\u001b[0;32m     15\u001b[0m     \u001b[0mx\u001b[0m \u001b[1;33m=\u001b[0m \u001b[0mx0\u001b[0m\u001b[1;33m\u001b[0m\u001b[0m\n\u001b[0;32m     16\u001b[0m     \u001b[0mr0\u001b[0m \u001b[1;33m=\u001b[0m \u001b[0mb\u001b[0m \u001b[1;33m-\u001b[0m \u001b[0mmultiply_A_i\u001b[0m\u001b[1;33m(\u001b[0m\u001b[0mNN\u001b[0m\u001b[1;33m,\u001b[0m \u001b[0mA\u001b[0m\u001b[1;33m,\u001b[0m \u001b[0mlamb\u001b[0m\u001b[1;33m,\u001b[0m \u001b[0mx\u001b[0m\u001b[1;33m)\u001b[0m\u001b[1;33m\u001b[0m\u001b[0m\n\u001b[1;32m---> 17\u001b[1;33m     \u001b[0mrtilde0\u001b[0m \u001b[1;33m=\u001b[0m \u001b[0mbacksolve_i\u001b[0m\u001b[1;33m(\u001b[0m\u001b[0mR\u001b[0m\u001b[1;33m,\u001b[0m \u001b[0mS\u001b[0m\u001b[1;33m,\u001b[0m \u001b[0mnp\u001b[0m\u001b[1;33m.\u001b[0m\u001b[0msqrt\u001b[0m\u001b[1;33m(\u001b[0m\u001b[0mlamb\u001b[0m\u001b[1;33m)\u001b[0m\u001b[1;33m,\u001b[0m\u001b[0mr0\u001b[0m\u001b[1;33m)\u001b[0m \u001b[1;32mif\u001b[0m \u001b[0mis_p\u001b[0m \u001b[1;32melse\u001b[0m \u001b[0mr0\u001b[0m\u001b[1;33m\u001b[0m\u001b[0m\n\u001b[0m\u001b[0;32m     18\u001b[0m     \u001b[0mp\u001b[0m \u001b[1;33m=\u001b[0m \u001b[0mrtilde0\u001b[0m\u001b[1;33m\u001b[0m\u001b[0m\n\u001b[0;32m     19\u001b[0m \u001b[1;33m\u001b[0m\u001b[0m\n",
      "\u001b[1;32m<ipython-input-270-b645af0c4cd7>\u001b[0m in \u001b[0;36mbacksolve_i\u001b[1;34m(R, S, lamb, b)\u001b[0m\n\u001b[0;32m      5\u001b[0m \u001b[1;31m# solves (R^T R)x = b for x, where R is upper triangular\u001b[0m\u001b[1;33m\u001b[0m\u001b[1;33m\u001b[0m\u001b[0m\n\u001b[0;32m      6\u001b[0m \u001b[1;32mdef\u001b[0m \u001b[0mbacksolve_i\u001b[0m\u001b[1;33m(\u001b[0m\u001b[0mR\u001b[0m\u001b[1;33m,\u001b[0m \u001b[0mS\u001b[0m\u001b[1;33m,\u001b[0m \u001b[0mlamb\u001b[0m\u001b[1;33m,\u001b[0m \u001b[0mb\u001b[0m\u001b[1;33m)\u001b[0m\u001b[1;33m:\u001b[0m\u001b[1;33m\u001b[0m\u001b[0m\n\u001b[1;32m----> 7\u001b[1;33m     \u001b[1;32mreturn\u001b[0m \u001b[0mbacksolve_R_i\u001b[0m\u001b[1;33m(\u001b[0m\u001b[0mR\u001b[0m\u001b[1;33m,\u001b[0m \u001b[0mS\u001b[0m\u001b[1;33m,\u001b[0m \u001b[0mlamb\u001b[0m\u001b[1;33m,\u001b[0m \u001b[0mbacksolve_Rtr_i\u001b[0m\u001b[1;33m(\u001b[0m\u001b[0mR\u001b[0m\u001b[1;33m,\u001b[0m \u001b[0mS\u001b[0m\u001b[1;33m,\u001b[0m \u001b[0mlamb\u001b[0m\u001b[1;33m,\u001b[0m \u001b[0mb\u001b[0m\u001b[1;33m)\u001b[0m\u001b[1;33m)\u001b[0m\u001b[1;33m\u001b[0m\u001b[0m\n\u001b[0m\u001b[0;32m      8\u001b[0m \u001b[1;33m\u001b[0m\u001b[0m\n\u001b[0;32m      9\u001b[0m \u001b[1;31m# simple implementation of cg with preconditioning, specific to the case of solving\u001b[0m\u001b[1;33m\u001b[0m\u001b[1;33m\u001b[0m\u001b[0m\n",
      "\u001b[1;32m<ipython-input-248-14468a07b95e>\u001b[0m in \u001b[0;36mbacksolve_Rtr_i\u001b[1;34m(R, S, lamb, b)\u001b[0m\n\u001b[0;32m     70\u001b[0m     \u001b[1;31m# block forwardsolve\u001b[0m\u001b[1;33m\u001b[0m\u001b[1;33m\u001b[0m\u001b[0m\n\u001b[0;32m     71\u001b[0m     \u001b[1;32mfor\u001b[0m \u001b[0mi\u001b[0m \u001b[1;32min\u001b[0m \u001b[0mrange\u001b[0m\u001b[1;33m(\u001b[0m\u001b[0mL\u001b[0m\u001b[1;33m-\u001b[0m\u001b[1;36m1\u001b[0m\u001b[1;33m,\u001b[0m\u001b[1;33m-\u001b[0m\u001b[1;36m1\u001b[0m\u001b[1;33m,\u001b[0m\u001b[1;33m-\u001b[0m\u001b[1;36m1\u001b[0m\u001b[1;33m)\u001b[0m\u001b[1;33m:\u001b[0m\u001b[1;33m\u001b[0m\u001b[0m\n\u001b[1;32m---> 72\u001b[1;33m         \u001b[0mAi\u001b[0m \u001b[1;33m=\u001b[0m \u001b[0mnp\u001b[0m\u001b[1;33m.\u001b[0m\u001b[0mkron\u001b[0m\u001b[1;33m(\u001b[0m\u001b[0mR\u001b[0m\u001b[1;33m[\u001b[0m\u001b[0mi\u001b[0m\u001b[1;33m]\u001b[0m\u001b[1;33m[\u001b[0m\u001b[0mi\u001b[0m\u001b[1;33m]\u001b[0m\u001b[1;33m.\u001b[0m\u001b[0mT\u001b[0m\u001b[1;33m,\u001b[0m \u001b[0mS\u001b[0m\u001b[1;33m[\u001b[0m\u001b[0mi\u001b[0m\u001b[1;33m]\u001b[0m\u001b[1;33m[\u001b[0m\u001b[0mi\u001b[0m\u001b[1;33m]\u001b[0m\u001b[1;33m.\u001b[0m\u001b[0mT\u001b[0m\u001b[1;33m)\u001b[0m\u001b[1;33m\u001b[0m\u001b[0m\n\u001b[0m\u001b[0;32m     73\u001b[0m         \u001b[0mthreshold_lamb\u001b[0m\u001b[1;33m(\u001b[0m\u001b[0mAi\u001b[0m\u001b[1;33m,\u001b[0m \u001b[0mlamb\u001b[0m\u001b[1;33m)\u001b[0m\u001b[1;33m\u001b[0m\u001b[0m\n\u001b[0;32m     74\u001b[0m         \u001b[0mm\u001b[0m\u001b[1;33m,\u001b[0m\u001b[0mn\u001b[0m \u001b[1;33m=\u001b[0m \u001b[0mAi\u001b[0m\u001b[1;33m.\u001b[0m\u001b[0mshape\u001b[0m\u001b[1;33m\u001b[0m\u001b[0m\n",
      "\u001b[1;32m/home/qyuan/anaconda3/lib/python3.5/site-packages/numpy/lib/shape_base.py\u001b[0m in \u001b[0;36mkron\u001b[1;34m(a, b)\u001b[0m\n\u001b[0;32m    779\u001b[0m             \u001b[0mbs\u001b[0m \u001b[1;33m=\u001b[0m \u001b[1;33m(\u001b[0m\u001b[1;36m1\u001b[0m\u001b[1;33m,\u001b[0m\u001b[1;33m)\u001b[0m\u001b[1;33m*\u001b[0m\u001b[1;33m(\u001b[0m\u001b[0mnda\u001b[0m\u001b[1;33m-\u001b[0m\u001b[0mndb\u001b[0m\u001b[1;33m)\u001b[0m \u001b[1;33m+\u001b[0m \u001b[0mbs\u001b[0m\u001b[1;33m\u001b[0m\u001b[0m\n\u001b[0;32m    780\u001b[0m             \u001b[0mnd\u001b[0m \u001b[1;33m=\u001b[0m \u001b[0mnda\u001b[0m\u001b[1;33m\u001b[0m\u001b[0m\n\u001b[1;32m--> 781\u001b[1;33m     \u001b[0mresult\u001b[0m \u001b[1;33m=\u001b[0m \u001b[0mouter\u001b[0m\u001b[1;33m(\u001b[0m\u001b[0ma\u001b[0m\u001b[1;33m,\u001b[0m \u001b[0mb\u001b[0m\u001b[1;33m)\u001b[0m\u001b[1;33m.\u001b[0m\u001b[0mreshape\u001b[0m\u001b[1;33m(\u001b[0m\u001b[0mas_\u001b[0m\u001b[1;33m+\u001b[0m\u001b[0mbs\u001b[0m\u001b[1;33m)\u001b[0m\u001b[1;33m\u001b[0m\u001b[0m\n\u001b[0m\u001b[0;32m    782\u001b[0m     \u001b[0maxis\u001b[0m \u001b[1;33m=\u001b[0m \u001b[0mnd\u001b[0m\u001b[1;33m-\u001b[0m\u001b[1;36m1\u001b[0m\u001b[1;33m\u001b[0m\u001b[0m\n\u001b[0;32m    783\u001b[0m     \u001b[1;32mfor\u001b[0m \u001b[0m_\u001b[0m \u001b[1;32min\u001b[0m \u001b[0mrange\u001b[0m\u001b[1;33m(\u001b[0m\u001b[0mnd\u001b[0m\u001b[1;33m)\u001b[0m\u001b[1;33m:\u001b[0m\u001b[1;33m\u001b[0m\u001b[0m\n",
      "\u001b[1;32m/home/qyuan/anaconda3/lib/python3.5/site-packages/numpy/core/numeric.py\u001b[0m in \u001b[0;36mouter\u001b[1;34m(a, b, out)\u001b[0m\n\u001b[0;32m   1083\u001b[0m     \u001b[0ma\u001b[0m \u001b[1;33m=\u001b[0m \u001b[0masarray\u001b[0m\u001b[1;33m(\u001b[0m\u001b[0ma\u001b[0m\u001b[1;33m)\u001b[0m\u001b[1;33m\u001b[0m\u001b[0m\n\u001b[0;32m   1084\u001b[0m     \u001b[0mb\u001b[0m \u001b[1;33m=\u001b[0m \u001b[0masarray\u001b[0m\u001b[1;33m(\u001b[0m\u001b[0mb\u001b[0m\u001b[1;33m)\u001b[0m\u001b[1;33m\u001b[0m\u001b[0m\n\u001b[1;32m-> 1085\u001b[1;33m     \u001b[1;32mreturn\u001b[0m \u001b[0mmultiply\u001b[0m\u001b[1;33m(\u001b[0m\u001b[0ma\u001b[0m\u001b[1;33m.\u001b[0m\u001b[0mravel\u001b[0m\u001b[1;33m(\u001b[0m\u001b[1;33m)\u001b[0m\u001b[1;33m[\u001b[0m\u001b[1;33m:\u001b[0m\u001b[1;33m,\u001b[0m \u001b[0mnewaxis\u001b[0m\u001b[1;33m]\u001b[0m\u001b[1;33m,\u001b[0m \u001b[0mb\u001b[0m\u001b[1;33m.\u001b[0m\u001b[0mravel\u001b[0m\u001b[1;33m(\u001b[0m\u001b[1;33m)\u001b[0m\u001b[1;33m[\u001b[0m\u001b[0mnewaxis\u001b[0m\u001b[1;33m,\u001b[0m\u001b[1;33m:\u001b[0m\u001b[1;33m]\u001b[0m\u001b[1;33m,\u001b[0m \u001b[0mout\u001b[0m\u001b[1;33m)\u001b[0m\u001b[1;33m\u001b[0m\u001b[0m\n\u001b[0m\u001b[0;32m   1086\u001b[0m \u001b[1;33m\u001b[0m\u001b[0m\n\u001b[0;32m   1087\u001b[0m \u001b[1;33m\u001b[0m\u001b[0m\n",
      "\u001b[1;31mMemoryError\u001b[0m: "
     ]
    }
   ],
   "source": [
    "lamb = 10\n",
    "\n",
    "sol, i = pcg_i(NN, A, lamb, R, SS, b, x)\n",
    "print('with preconditioning, iterations = ',i)\n",
    "sol2, i2 = pcg_i(NN, A, lamb, R, SS, b, x, is_p = False)\n",
    "print('with no preconditioning, iterations = ',i2)"
   ]
  },
  {
   "cell_type": "code",
   "execution_count": null,
   "metadata": {
    "collapsed": true
   },
   "outputs": [],
   "source": []
  }
 ],
 "metadata": {
  "kernelspec": {
   "display_name": "Python 3",
   "language": "python",
   "name": "python3"
  },
  "language_info": {
   "codemirror_mode": {
    "name": "ipython",
    "version": 3
   },
   "file_extension": ".py",
   "mimetype": "text/x-python",
   "name": "python",
   "nbconvert_exporter": "python",
   "pygments_lexer": "ipython3",
   "version": "3.5.1"
  }
 },
 "nbformat": 4,
 "nbformat_minor": 0
}
