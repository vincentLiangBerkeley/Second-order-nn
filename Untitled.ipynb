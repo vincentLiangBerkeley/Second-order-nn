{
 "cells": [
  {
   "cell_type": "code",
   "execution_count": 1,
   "metadata": {
    "collapsed": true
   },
   "outputs": [],
   "source": [
    "import numpy as np"
   ]
  },
  {
   "cell_type": "code",
   "execution_count": 31,
   "metadata": {
    "collapsed": false
   },
   "outputs": [],
   "source": [
    "# J = [ NN[l-1] kron A[l-1]  ...  NN[k] kron A[k]  ...  NN[0] kron A[0] ]\n",
    "# Ns, As are lists containing the matrices N_i and A_i\n",
    "# QR_of_J finds the QR factorization of the J matrix\n",
    "# TODO: pivoting\n",
    "def QR_of_J(NN, A):\n",
    "    \n",
    "    currNN = list(NN)\n",
    "    l = len(currNN) \n",
    "    \n",
    "    R = [[None for j in range(l)] for i in range(l)] # list containing R factors of NN\n",
    "    Q = [None for i in range(l)] # list containing Q factors of NN\n",
    "    S = [[None for j in range(l)] for i in range(l)] # list containing R factors of A\n",
    "    U = [None for i in range(l)] # list containing Q factors of A\n",
    "    \n",
    "    for i in range(len(NN)-1,-1,-1):\n",
    "        n = currNN[i].shape[1]\n",
    "        q,r = np.linalg.qr(currNN[i], mode='complete')\n",
    "        Q[i] = q\n",
    "        R[i][i] = r[:n,:]\n",
    "        u,s = np.linalg.qr(A[i], mode='complete')\n",
    "        U[i] = u\n",
    "        S[i][i] = s\n",
    "        for j in range(i-1,-1,-1):\n",
    "            temp = np.dot(q.T,currNN[j])\n",
    "            R[i][j] = temp[:n,:]\n",
    "            currNN[j] = temp[n:,:]\n",
    "            temp2 = np.dot(u.T,A[j])\n",
    "            S[i][j] = temp2\n",
    "    \n",
    "    return [R,S]\n",
    "\n",
    "# assemble full R matrix, for testing\n",
    "def assemble_R(R, S):\n",
    "    l = len(R)\n",
    "    # assemble right most block column\n",
    "    currCol = np.kron(R[l-1][0], S[l-1][0])\n",
    "    for i in range(l-2,-1,-1):\n",
    "        currCol = np.vstack((currCol, np.kron(R[i][0], S[i][0])))\n",
    "    m = currCol.shape[0]\n",
    "    RR = np.copy(currCol)\n",
    "    # assemble other block columns, proceeding from right to left\n",
    "    for j in range(1,l,1):\n",
    "        currCol = np.kron(R[l-1][j], S[l-1][j])\n",
    "        for i in range(l-2,j-1,-1):\n",
    "            currCol = np.vstack((currCol, np.kron(R[i][j], S[i][j])))\n",
    "        currCol = np.vstack((currCol, np.zeros((m-currCol.shape[0], currCol.shape[1]))))\n",
    "        RR = np.hstack((currCol, RR))\n",
    "    return RR\n",
    "\n",
    "# assemble full J matrix, for testing\n",
    "def assemble_J(NN, A):\n",
    "    J = np.kron(NN[l-1], A[l-1])\n",
    "    for i in range(l-2,-1,-1):\n",
    "        J = np.hstack((J, np.kron(NN[i], A[i])))\n",
    "    return J"
   ]
  },
  {
   "cell_type": "code",
   "execution_count": 32,
   "metadata": {
    "collapsed": false
   },
   "outputs": [
    {
     "name": "stdout",
     "output_type": "stream",
     "text": [
      "1.55431223448e-15\n"
     ]
    }
   ],
   "source": [
    "# testing QR_of_J function\n",
    "l = 2\n",
    "dk = 2 \n",
    "dx = dk*l\n",
    "NN = [np.random.randn(dx,dk) for i in range(l)]\n",
    "A = [np.random.randn(dk,dk) for i in range(l)]\n",
    "\n",
    "R,S = QR_of_J(NN,A)\n",
    "RR = assemble_R(R,S)\n",
    "J = assemble_J(NN,A)\n",
    "\n",
    "u,s,v = np.linalg.svd(RR)\n",
    "u,s2,v = np.linalg.svd(J)\n",
    "print(np.max(np.abs(s-s2)))"
   ]
  },
  {
   "cell_type": "code",
   "execution_count": 43,
   "metadata": {
    "collapsed": false
   },
   "outputs": [
    {
     "name": "stdout",
     "output_type": "stream",
     "text": [
      "3.5527136788e-15\n"
     ]
    }
   ],
   "source": [
    "# testing QR_of_J function on non-square matrices\n",
    "l = 2\n",
    "dk = 2\n",
    "dx = dk*l\n",
    "NN = [np.random.randn(dx,dk) for i in range(l)]\n",
    "A = [np.random.randn(dk,3), np.random.randn(dk,4)]\n",
    "\n",
    "R,S = QR_of_J(NN,A)\n",
    "RR = assemble_R(R,S)\n",
    "J = assemble_J(NN,A)\n",
    "\n",
    "u,s,v = np.linalg.svd(RR)\n",
    "u,s2,v = np.linalg.svd(J)\n",
    "print(np.max(np.abs(s-s2)))"
   ]
  },
  {
   "cell_type": "code",
   "execution_count": 50,
   "metadata": {
    "collapsed": true
   },
   "outputs": [],
   "source": [
    "# append zero rows to blocks of S that are short fat matrices\n",
    "def append_zero_rows(S):\n",
    "    \n",
    "    l = len(S)\n",
    "    SS = [[None for j in range(l)] for i in range(l)] # make a new S, don't modify the original within the function\n",
    "    \n",
    "    for i in range(l):\n",
    "        m,n = S[i][i].shape\n",
    "        if m < n: # diagonal block is short fat, append zeros to this and all row blocks\n",
    "            for j in range(i+1):\n",
    "                SS[i][j] = np.vstack((S[i][j], np.zeros((n-m, S[i][j].shape[1]))))\n",
    "        else:\n",
    "            for j in range(i+1):\n",
    "                SS[i][j] = S[i][j]\n",
    "    \n",
    "    return SS\n",
    "\n",
    "# assemble preconditioner R as a full matrix, a square matrix with diagonal abs thresholding by lambda > 0\n",
    "# TODO: handle case when blocks of R, S are tall skinny, for now we assume all blocks are square or short fat\n",
    "def assemble_R_precon(R, S, lamb):\n",
    "    \n",
    "    # add appropriate zeros rows\n",
    "    SS = append_zero_rows(S)\n",
    "    \n",
    "    # assemble R\n",
    "    R_thr = assemble_R(R,SS)\n",
    "    \n",
    "    # apply thresholding\n",
    "    for i in range(R_thr.shape[0]):\n",
    "        R_thr[i][i] = np.max((R_thr[i][i], lamb)) if R_thr[i][i] >= 0 else np.min((R_thr[i][i], -lamb))\n",
    "        \n",
    "    return R_thr\n",
    "        "
   ]
  },
  {
   "cell_type": "code",
   "execution_count": 51,
   "metadata": {
    "collapsed": false
   },
   "outputs": [
    {
     "name": "stdout",
     "output_type": "stream",
     "text": [
      "[[array([[-0.9449666 ,  0.79094935,  0.94423719],\n",
      "       [ 0.        , -1.6028116 ,  1.56805073]]), None], [array([[-0.82925674,  1.46261901,  0.07676354],\n",
      "       [-0.45309508, -1.02730303,  1.8287904 ]]), array([[ 1.52848693, -0.00406769, -1.55030706, -0.90798574],\n",
      "       [ 0.        , -2.26337699,  0.28198268,  0.21117425]])]]\n",
      "[[array([[-0.9449666 ,  0.79094935,  0.94423719],\n",
      "       [ 0.        , -1.6028116 ,  1.56805073],\n",
      "       [ 0.        ,  0.        ,  0.        ]]), None], [array([[-0.82925674,  1.46261901,  0.07676354],\n",
      "       [-0.45309508, -1.02730303,  1.8287904 ],\n",
      "       [ 0.        ,  0.        ,  0.        ],\n",
      "       [ 0.        ,  0.        ,  0.        ]]), array([[ 1.52848693, -0.00406769, -1.55030706, -0.90798574],\n",
      "       [ 0.        , -2.26337699,  0.28198268,  0.21117425],\n",
      "       [ 0.        ,  0.        ,  0.        ,  0.        ],\n",
      "       [ 0.        ,  0.        ,  0.        ,  0.        ]])]]\n",
      "[[-10.   0.   2.   1.   0.  -1.  -1.  -1.  -1.   0.   0.   0.  -1.  -1.]\n",
      " [ -0.  10.  -1.  -1.   0.  -1.   0.   0.  -1.  -1.   0.   0.   0.  -1.]\n",
      " [ -0.  -0.  10.  -0.   0.   0.   0.   0.   0.   0.   0.  -0.  -0.  -0.]\n",
      " [ -0.  -0.  -0.  10.   0.   0.   0.   0.   0.   0.   0.  -0.  -0.  -0.]\n",
      " [  0.  -0.  -0.  -0. -10.   0.   3.   1.  -1.   1.   0.   0.  -2.  -1.]\n",
      " [  0.  -0.   0.   0.  -0.  10.  -1.  -1.  -1.  -1.   1.   0.   0.  -2.]\n",
      " [  0.   0.   0.   0.  -0.  -0.  10.  -0.   0.   0.   0.  -0.  -0.  -0.]\n",
      " [  0.   0.   0.   0.  -0.  -0.  -0.  10.   0.   0.   0.  -0.  -0.  -0.]\n",
      " [  0.   0.   0.   0.   0.   0.   0.   0. -10.   0.   0.   0.  -1.  -1.]\n",
      " [  0.   0.   0.   0.   0.   0.   0.   0.   0. -10.   1.  -0.   1.  -2.]\n",
      " [  0.   0.   0.   0.   0.   0.   0.   0.   0.   0.  10.  -0.  -0.  -0.]\n",
      " [  0.   0.   0.   0.   0.   0.   0.   0.  -0.   0.   0.  10.  -2.  -2.]\n",
      " [  0.   0.   0.   0.   0.   0.   0.   0.   0.  -0.   0.  -0.  10.  -3.]\n",
      " [  0.   0.   0.   0.   0.   0.   0.   0.   0.   0.   0.  -0.  -0.  10.]]\n"
     ]
    }
   ],
   "source": [
    "# testing append_zero_rows function and assemble_R_precon function\n",
    "print(S)\n",
    "SS = append_zero_rows(S)\n",
    "print(SS)\n",
    "\n",
    "R_precon = assemble_R_precon(R,S,10)\n",
    "print(np.floor(R_precon))"
   ]
  },
  {
   "cell_type": "code",
   "execution_count": null,
   "metadata": {
    "collapsed": true
   },
   "outputs": [],
   "source": []
  }
 ],
 "metadata": {
  "kernelspec": {
   "display_name": "Python 3",
   "language": "python",
   "name": "python3"
  },
  "language_info": {
   "codemirror_mode": {
    "name": "ipython",
    "version": 3
   },
   "file_extension": ".py",
   "mimetype": "text/x-python",
   "name": "python",
   "nbconvert_exporter": "python",
   "pygments_lexer": "ipython3",
   "version": "3.5.1"
  }
 },
 "nbformat": 4,
 "nbformat_minor": 0
}
